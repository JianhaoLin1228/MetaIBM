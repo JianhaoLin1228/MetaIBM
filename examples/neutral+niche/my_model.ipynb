{
 "cells": [
  {
   "cell_type": "markdown",
   "id": "b71957f0",
   "metadata": {},
   "source": [
    "# This is the examples of how to bulid a modelling system"
   ]
  },
  {
   "cell_type": "markdown",
   "id": "026c59bd",
   "metadata": {},
   "source": [
    "MetaIBM Software Version: 2.9.12\n",
    "\n",
    "Authors: Jian-Hao Lin\n",
    "\n",
    "Department of Ecology, Jinan University, Guangzhou 510632, China\n"
   ]
  },
  {
   "cell_type": "markdown",
   "id": "1aab6556",
   "metadata": {},
   "source": [
    "# In this notebook we try to simulate a neutral+niche model"
   ]
  },
  {
   "cell_type": "markdown",
   "id": "faf5089c",
   "metadata": {},
   "source": [
    "First, we need to create a python script in the same folder of metacommunity_IBM.py\n",
    "\n",
    "Then, we import the metacommunity_IBM.py or we can just import the class patch or class metacommuity from the metacommunity_IBM.py."
   ]
  },
  {
   "cell_type": "code",
   "execution_count": 22,
   "id": "e9c247ee",
   "metadata": {},
   "outputs": [],
   "source": [
    "import metacommunity_IBM as metaIBM\n",
    "from metacommunity_IBM import patch\n",
    "from metacommunity_IBM import metacommunity"
   ]
  },
  {
   "cell_type": "markdown",
   "id": "b31167d1",
   "metadata": {},
   "source": [
    "We have to note that calling patch( ) or metacommunity( ) is identical to calling metaIBM.patch( ) or metaIBM.metacommunity( )"
   ]
  },
  {
   "cell_type": "markdown",
   "id": "3b59fd40",
   "metadata": {},
   "source": [
    "Next, we should import some other modules we will use in the modelling."
   ]
  },
  {
   "cell_type": "code",
   "execution_count": 23,
   "id": "1d4546da",
   "metadata": {},
   "outputs": [],
   "source": [
    "import os\n",
    "import time\n",
    "\n",
    "import numpy as np\n",
    "import matplotlib.pyplot as plt\n",
    "from matplotlib.colors import ListedColormap"
   ]
  },
  {
   "cell_type": "markdown",
   "id": "192475e9",
   "metadata": {},
   "source": [
    "Next, we will build a islands-mainland modelling system with a initially-occupied mainland and a number of initially-unoccupied islands as a metacommunity."
   ]
  },
  {
   "cell_type": "markdown",
   "id": "3948b6f4",
   "metadata": {},
   "source": [
    "To do so, we create a empty mainland and then initialize the species in the maindland."
   ]
  },
  {
   "cell_type": "code",
   "execution_count": 24,
   "id": "0db45747",
   "metadata": {},
   "outputs": [],
   "source": [
    "def generate_empty_mainland(meta_name, patch_num, patch_location_ls, hab_num, hab_length, hab_width, \n",
    "                            dormancy_pool_max_size, x_axis_environment_values_ls, y_axis_environment_values_ls, \n",
    "                            environment_types_num, environment_types_name, environment_variation_ls):\n",
    "    log_info = 'generating empty mainland ... \\n'\n",
    "    meta_object = metacommunity(metacommunity_name=meta_name)\n",
    "    for i in range(0, patch_num):\n",
    "        patch_name = 'patch%d'%(i)\n",
    "        patch_index = i\n",
    "        location = patch_location_ls[i]\n",
    "        patch_x_loc, patch_y_loc = location[0], location[1]\n",
    "        p = patch(patch_name, patch_index, location)\n",
    "        \n",
    "        hab_num_length, hab_num_width = int(np.sqrt(hab_num)), int(np.sqrt(hab_num))\n",
    "        \n",
    "        for j in range(hab_num):\n",
    "            habitat_name = 'h%s'%str(j)\n",
    "            hab_index = j\n",
    "            \n",
    "            hab_x_loc, hab_y_loc = patch_x_loc*hab_num_length+j//hab_num_width, patch_y_loc*hab_num_width+j%hab_num_width\n",
    "            hab_location = (hab_x_loc, hab_y_loc)\n",
    "            \n",
    "            micro_environment_mean_value = x_axis_environment_values_ls[j//hab_num_width]\n",
    "            macro_environment_mean_value = y_axis_environment_values_ls[j%hab_num_width]\n",
    "            \n",
    "            p.add_habitat(hab_name=habitat_name, hab_index=hab_index, hab_location=hab_location, num_env_types=environment_types_num, env_types_name=environment_types_name, \n",
    "                          mean_env_ls=[micro_environment_mean_value, macro_environment_mean_value], var_env_ls=environment_variation_ls, length=hab_length, width=hab_width, dormancy_pool_max_size=dormancy_pool_max_size)\n",
    "            \n",
    "            info = '%s: %s, %s, %s, %s: x_axis_environment_mean_value=%s, y_axis_environment_mean_value=%s \\n'%(meta_object.metacommunity_name, patch_name, str(location), habitat_name, str(hab_location), str(micro_environment_mean_value), str(macro_environment_mean_value))\n",
    "            log_info = log_info + info\n",
    "        meta_object.add_patch(patch_name=patch_name, patch_object=p)\n",
    "    #print(log_info)\n",
    "    return meta_object, log_info"
   ]
  },
  {
   "cell_type": "code",
   "execution_count": 25,
   "id": "c321ed62",
   "metadata": {},
   "outputs": [],
   "source": [
    "mainland, log_info = generate_empty_mainland(meta_name='mainland', patch_num=1, patch_location_ls=[(0,0)], \n",
    "                                             hab_num=100, hab_length=20, hab_width=20, dormancy_pool_max_size=0, \n",
    "                                             x_axis_environment_values_ls=[0.0,0.1,0.2,0.3,0.4,0.5,0.6,0.7,0.8,0.9], \n",
    "                                             y_axis_environment_values_ls=[0.0,0.1,0.2,0.3,0.4,0.5,0.6,0.7,0.8,0.9], \n",
    "                                             environment_types_num=2, environment_types_name=('x_axis_environment', 'y_axis_environment'), \n",
    "                                             environment_variation_ls=[0.025, 0.025])"
   ]
  },
  {
   "cell_type": "code",
   "execution_count": 26,
   "id": "3a5deaf1",
   "metadata": {},
   "outputs": [
    {
     "name": "stdout",
     "output_type": "stream",
     "text": [
      "generating empty mainland ... \n",
      "mainland: patch0, (0, 0), h0, (0, 0): x_axis_environment_mean_value=0.0, y_axis_environment_mean_value=0.0 \n",
      "mainland: patch0, (0, 0), h1, (0, 1): x_axis_environment_mean_value=0.0, y_axis_environment_mean_value=0.1 \n",
      "mainland: patch0, (0, 0), h2, (0, 2): x_axis_environment_mean_value=0.0, y_axis_environment_mean_value=0.2 \n",
      "mainland: patch0, (0, 0), h3, (0, 3): x_axis_environment_mean_value=0.0, y_axis_environment_mean_value=0.3 \n",
      "mainland: patch0, (0, 0), h4, (0, 4): x_axis_environment_mean_value=0.0, y_axis_environment_mean_value=0.4 \n",
      "mainland: patch0, (0, 0), h5, (0, 5): x_axis_environment_mean_value=0.0, y_axis_environment_mean_value=0.5 \n",
      "mainland: patch0, (0, 0), h6, (0, 6): x_axis_environment_mean_value=0.0, y_axis_environment_mean_value=0.6 \n",
      "mainland: patch0, (0, 0), h7, (0, 7): x_axis_environment_mean_value=0.0, y_axis_environment_mean_value=0.7 \n",
      "mainland: patch0, (0, 0), h8, (0, 8): x_axis_environment_mean_value=0.0, y_axis_environment_mean_value=0.8 \n",
      "mainland: patch0, (0, 0), h9, (0, 9): x_axis_environment_mean_value=0.0, y_axis_environment_mean_value=0.9 \n",
      "mainland: patch0, (0, 0), h10, (1, 0): x_axis_environment_mean_value=0.1, y_axis_environment_mean_value=0.0 \n",
      "mainland: patch0, (0, 0), h11, (1, 1): x_axis_environment_mean_value=0.1, y_axis_environment_mean_value=0.1 \n",
      "mainland: patch0, (0, 0), h12, (1, 2): x_axis_environment_mean_value=0.1, y_axis_environment_mean_value=0.2 \n",
      "mainland: patch0, (0, 0), h13, (1, 3): x_axis_environment_mean_value=0.1, y_axis_environment_mean_value=0.3 \n",
      "mainland: patch0, (0, 0), h14, (1, 4): x_axis_environment_mean_value=0.1, y_axis_environment_mean_value=0.4 \n",
      "mainland: patch0, (0, 0), h15, (1, 5): x_axis_environment_mean_value=0.1, y_axis_environment_mean_value=0.5 \n",
      "mainland: patch0, (0, 0), h16, (1, 6): x_axis_environment_mean_value=0.1, y_axis_environment_mean_value=0.6 \n",
      "mainland: patch0, (0, 0), h17, (1, 7): x_axis_environment_mean_value=0.1, y_axis_environment_mean_value=0.7 \n",
      "mainland: patch0, (0, 0), h18, (1, 8): x_axis_environment_mean_value=0.1, y_axis_environment_mean_value=0.8 \n",
      "mainland: patch0, (0, 0), h19, (1, 9): x_axis_environment_mean_value=0.1, y_axis_environment_mean_value=0.9 \n",
      "mainland: patch0, (0, 0), h20, (2, 0): x_axis_environment_mean_value=0.2, y_axis_environment_mean_value=0.0 \n",
      "mainland: patch0, (0, 0), h21, (2, 1): x_axis_environment_mean_value=0.2, y_axis_environment_mean_value=0.1 \n",
      "mainland: patch0, (0, 0), h22, (2, 2): x_axis_environment_mean_value=0.2, y_axis_environment_mean_value=0.2 \n",
      "mainland: patch0, (0, 0), h23, (2, 3): x_axis_environment_mean_value=0.2, y_axis_environment_mean_value=0.3 \n",
      "mainland: patch0, (0, 0), h24, (2, 4): x_axis_environment_mean_value=0.2, y_axis_environment_mean_value=0.4 \n",
      "mainland: patch0, (0, 0), h25, (2, 5): x_axis_environment_mean_value=0.2, y_axis_environment_mean_value=0.5 \n",
      "mainland: patch0, (0, 0), h26, (2, 6): x_axis_environment_mean_value=0.2, y_axis_environment_mean_value=0.6 \n",
      "mainland: patch0, (0, 0), h27, (2, 7): x_axis_environment_mean_value=0.2, y_axis_environment_mean_value=0.7 \n",
      "mainland: patch0, (0, 0), h28, (2, 8): x_axis_environment_mean_value=0.2, y_axis_environment_mean_value=0.8 \n",
      "mainland: patch0, (0, 0), h29, (2, 9): x_axis_environment_mean_value=0.2, y_axis_environment_mean_value=0.9 \n",
      "mainland: patch0, (0, 0), h30, (3, 0): x_axis_environment_mean_value=0.3, y_axis_environment_mean_value=0.0 \n",
      "mainland: patch0, (0, 0), h31, (3, 1): x_axis_environment_mean_value=0.3, y_axis_environment_mean_value=0.1 \n",
      "mainland: patch0, (0, 0), h32, (3, 2): x_axis_environment_mean_value=0.3, y_axis_environment_mean_value=0.2 \n",
      "mainland: patch0, (0, 0), h33, (3, 3): x_axis_environment_mean_value=0.3, y_axis_environment_mean_value=0.3 \n",
      "mainland: patch0, (0, 0), h34, (3, 4): x_axis_environment_mean_value=0.3, y_axis_environment_mean_value=0.4 \n",
      "mainland: patch0, (0, 0), h35, (3, 5): x_axis_environment_mean_value=0.3, y_axis_environment_mean_value=0.5 \n",
      "mainland: patch0, (0, 0), h36, (3, 6): x_axis_environment_mean_value=0.3, y_axis_environment_mean_value=0.6 \n",
      "mainland: patch0, (0, 0), h37, (3, 7): x_axis_environment_mean_value=0.3, y_axis_environment_mean_value=0.7 \n",
      "mainland: patch0, (0, 0), h38, (3, 8): x_axis_environment_mean_value=0.3, y_axis_environment_mean_value=0.8 \n",
      "mainland: patch0, (0, 0), h39, (3, 9): x_axis_environment_mean_value=0.3, y_axis_environment_mean_value=0.9 \n",
      "mainland: patch0, (0, 0), h40, (4, 0): x_axis_environment_mean_value=0.4, y_axis_environment_mean_value=0.0 \n",
      "mainland: patch0, (0, 0), h41, (4, 1): x_axis_environment_mean_value=0.4, y_axis_environment_mean_value=0.1 \n",
      "mainland: patch0, (0, 0), h42, (4, 2): x_axis_environment_mean_value=0.4, y_axis_environment_mean_value=0.2 \n",
      "mainland: patch0, (0, 0), h43, (4, 3): x_axis_environment_mean_value=0.4, y_axis_environment_mean_value=0.3 \n",
      "mainland: patch0, (0, 0), h44, (4, 4): x_axis_environment_mean_value=0.4, y_axis_environment_mean_value=0.4 \n",
      "mainland: patch0, (0, 0), h45, (4, 5): x_axis_environment_mean_value=0.4, y_axis_environment_mean_value=0.5 \n",
      "mainland: patch0, (0, 0), h46, (4, 6): x_axis_environment_mean_value=0.4, y_axis_environment_mean_value=0.6 \n",
      "mainland: patch0, (0, 0), h47, (4, 7): x_axis_environment_mean_value=0.4, y_axis_environment_mean_value=0.7 \n",
      "mainland: patch0, (0, 0), h48, (4, 8): x_axis_environment_mean_value=0.4, y_axis_environment_mean_value=0.8 \n",
      "mainland: patch0, (0, 0), h49, (4, 9): x_axis_environment_mean_value=0.4, y_axis_environment_mean_value=0.9 \n",
      "mainland: patch0, (0, 0), h50, (5, 0): x_axis_environment_mean_value=0.5, y_axis_environment_mean_value=0.0 \n",
      "mainland: patch0, (0, 0), h51, (5, 1): x_axis_environment_mean_value=0.5, y_axis_environment_mean_value=0.1 \n",
      "mainland: patch0, (0, 0), h52, (5, 2): x_axis_environment_mean_value=0.5, y_axis_environment_mean_value=0.2 \n",
      "mainland: patch0, (0, 0), h53, (5, 3): x_axis_environment_mean_value=0.5, y_axis_environment_mean_value=0.3 \n",
      "mainland: patch0, (0, 0), h54, (5, 4): x_axis_environment_mean_value=0.5, y_axis_environment_mean_value=0.4 \n",
      "mainland: patch0, (0, 0), h55, (5, 5): x_axis_environment_mean_value=0.5, y_axis_environment_mean_value=0.5 \n",
      "mainland: patch0, (0, 0), h56, (5, 6): x_axis_environment_mean_value=0.5, y_axis_environment_mean_value=0.6 \n",
      "mainland: patch0, (0, 0), h57, (5, 7): x_axis_environment_mean_value=0.5, y_axis_environment_mean_value=0.7 \n",
      "mainland: patch0, (0, 0), h58, (5, 8): x_axis_environment_mean_value=0.5, y_axis_environment_mean_value=0.8 \n",
      "mainland: patch0, (0, 0), h59, (5, 9): x_axis_environment_mean_value=0.5, y_axis_environment_mean_value=0.9 \n",
      "mainland: patch0, (0, 0), h60, (6, 0): x_axis_environment_mean_value=0.6, y_axis_environment_mean_value=0.0 \n",
      "mainland: patch0, (0, 0), h61, (6, 1): x_axis_environment_mean_value=0.6, y_axis_environment_mean_value=0.1 \n",
      "mainland: patch0, (0, 0), h62, (6, 2): x_axis_environment_mean_value=0.6, y_axis_environment_mean_value=0.2 \n",
      "mainland: patch0, (0, 0), h63, (6, 3): x_axis_environment_mean_value=0.6, y_axis_environment_mean_value=0.3 \n",
      "mainland: patch0, (0, 0), h64, (6, 4): x_axis_environment_mean_value=0.6, y_axis_environment_mean_value=0.4 \n",
      "mainland: patch0, (0, 0), h65, (6, 5): x_axis_environment_mean_value=0.6, y_axis_environment_mean_value=0.5 \n",
      "mainland: patch0, (0, 0), h66, (6, 6): x_axis_environment_mean_value=0.6, y_axis_environment_mean_value=0.6 \n",
      "mainland: patch0, (0, 0), h67, (6, 7): x_axis_environment_mean_value=0.6, y_axis_environment_mean_value=0.7 \n",
      "mainland: patch0, (0, 0), h68, (6, 8): x_axis_environment_mean_value=0.6, y_axis_environment_mean_value=0.8 \n",
      "mainland: patch0, (0, 0), h69, (6, 9): x_axis_environment_mean_value=0.6, y_axis_environment_mean_value=0.9 \n",
      "mainland: patch0, (0, 0), h70, (7, 0): x_axis_environment_mean_value=0.7, y_axis_environment_mean_value=0.0 \n",
      "mainland: patch0, (0, 0), h71, (7, 1): x_axis_environment_mean_value=0.7, y_axis_environment_mean_value=0.1 \n",
      "mainland: patch0, (0, 0), h72, (7, 2): x_axis_environment_mean_value=0.7, y_axis_environment_mean_value=0.2 \n",
      "mainland: patch0, (0, 0), h73, (7, 3): x_axis_environment_mean_value=0.7, y_axis_environment_mean_value=0.3 \n",
      "mainland: patch0, (0, 0), h74, (7, 4): x_axis_environment_mean_value=0.7, y_axis_environment_mean_value=0.4 \n",
      "mainland: patch0, (0, 0), h75, (7, 5): x_axis_environment_mean_value=0.7, y_axis_environment_mean_value=0.5 \n",
      "mainland: patch0, (0, 0), h76, (7, 6): x_axis_environment_mean_value=0.7, y_axis_environment_mean_value=0.6 \n",
      "mainland: patch0, (0, 0), h77, (7, 7): x_axis_environment_mean_value=0.7, y_axis_environment_mean_value=0.7 \n",
      "mainland: patch0, (0, 0), h78, (7, 8): x_axis_environment_mean_value=0.7, y_axis_environment_mean_value=0.8 \n",
      "mainland: patch0, (0, 0), h79, (7, 9): x_axis_environment_mean_value=0.7, y_axis_environment_mean_value=0.9 \n",
      "mainland: patch0, (0, 0), h80, (8, 0): x_axis_environment_mean_value=0.8, y_axis_environment_mean_value=0.0 \n",
      "mainland: patch0, (0, 0), h81, (8, 1): x_axis_environment_mean_value=0.8, y_axis_environment_mean_value=0.1 \n",
      "mainland: patch0, (0, 0), h82, (8, 2): x_axis_environment_mean_value=0.8, y_axis_environment_mean_value=0.2 \n",
      "mainland: patch0, (0, 0), h83, (8, 3): x_axis_environment_mean_value=0.8, y_axis_environment_mean_value=0.3 \n",
      "mainland: patch0, (0, 0), h84, (8, 4): x_axis_environment_mean_value=0.8, y_axis_environment_mean_value=0.4 \n",
      "mainland: patch0, (0, 0), h85, (8, 5): x_axis_environment_mean_value=0.8, y_axis_environment_mean_value=0.5 \n",
      "mainland: patch0, (0, 0), h86, (8, 6): x_axis_environment_mean_value=0.8, y_axis_environment_mean_value=0.6 \n",
      "mainland: patch0, (0, 0), h87, (8, 7): x_axis_environment_mean_value=0.8, y_axis_environment_mean_value=0.7 \n",
      "mainland: patch0, (0, 0), h88, (8, 8): x_axis_environment_mean_value=0.8, y_axis_environment_mean_value=0.8 \n",
      "mainland: patch0, (0, 0), h89, (8, 9): x_axis_environment_mean_value=0.8, y_axis_environment_mean_value=0.9 \n",
      "mainland: patch0, (0, 0), h90, (9, 0): x_axis_environment_mean_value=0.9, y_axis_environment_mean_value=0.0 \n",
      "mainland: patch0, (0, 0), h91, (9, 1): x_axis_environment_mean_value=0.9, y_axis_environment_mean_value=0.1 \n",
      "mainland: patch0, (0, 0), h92, (9, 2): x_axis_environment_mean_value=0.9, y_axis_environment_mean_value=0.2 \n",
      "mainland: patch0, (0, 0), h93, (9, 3): x_axis_environment_mean_value=0.9, y_axis_environment_mean_value=0.3 \n",
      "mainland: patch0, (0, 0), h94, (9, 4): x_axis_environment_mean_value=0.9, y_axis_environment_mean_value=0.4 \n",
      "mainland: patch0, (0, 0), h95, (9, 5): x_axis_environment_mean_value=0.9, y_axis_environment_mean_value=0.5 \n",
      "mainland: patch0, (0, 0), h96, (9, 6): x_axis_environment_mean_value=0.9, y_axis_environment_mean_value=0.6 \n",
      "mainland: patch0, (0, 0), h97, (9, 7): x_axis_environment_mean_value=0.9, y_axis_environment_mean_value=0.7 \n",
      "mainland: patch0, (0, 0), h98, (9, 8): x_axis_environment_mean_value=0.9, y_axis_environment_mean_value=0.8 \n",
      "mainland: patch0, (0, 0), h99, (9, 9): x_axis_environment_mean_value=0.9, y_axis_environment_mean_value=0.9 \n",
      "\n"
     ]
    }
   ],
   "source": [
    "print(log_info) #imformation for logging"
   ]
  },
  {
   "cell_type": "markdown",
   "id": "d25108a1",
   "metadata": {},
   "source": [
    "In the information for logging, each line records the generation of a habitat in the mainland including the information of patch_id, patch_coordinate, habitat_id, habitat_coordinate, the environmental values of the habitat."
   ]
  },
  {
   "cell_type": "code",
   "execution_count": 27,
   "id": "a23653a4",
   "metadata": {},
   "outputs": [
    {
     "data": {
      "text/plain": [
       "0"
      ]
     },
     "execution_count": 27,
     "metadata": {},
     "output_type": "execute_result"
    },
    {
     "data": {
      "text/plain": [
       "<Figure size 4000x4000 with 0 Axes>"
      ]
     },
     "metadata": {},
     "output_type": "display_data"
    }
   ],
   "source": [
    "mainland.meta_show_environment_distribution(environment_name='x_axis_environment', sub_row=1, sub_col=1, hab_num_x_axis_in_patch=10, hab_num_y_axis_in_patch=10, hab_y_len=20, hab_x_len=20, mask_loc=None, cmap=plt.get_cmap('Blues'), file_name='mainland_x_axis_environment.jpg')"
   ]
  },
  {
   "cell_type": "markdown",
   "id": "31b13157",
   "metadata": {},
   "source": [
    "Then, 'mainland_x_axis_environment.jpg' is plotted in the folder."
   ]
  },
  {
   "cell_type": "code",
   "execution_count": 28,
   "id": "d331e288",
   "metadata": {},
   "outputs": [
    {
     "data": {
      "text/plain": [
       "0"
      ]
     },
     "execution_count": 28,
     "metadata": {},
     "output_type": "execute_result"
    },
    {
     "data": {
      "text/plain": [
       "<Figure size 4000x4000 with 0 Axes>"
      ]
     },
     "metadata": {},
     "output_type": "display_data"
    }
   ],
   "source": [
    "mainland.meta_show_environment_distribution(environment_name='y_axis_environment', sub_row=1, sub_col=1, hab_num_x_axis_in_patch=10, hab_num_y_axis_in_patch=10, hab_y_len=20, hab_x_len=20, mask_loc=None, cmap=plt.get_cmap('Greens'), file_name='mainland_y_axis_environment.jpg')"
   ]
  },
  {
   "cell_type": "markdown",
   "id": "68acca50",
   "metadata": {},
   "source": [
    "Then, 'mainland_y_axis_environment.jpg' is plotted in the folder."
   ]
  },
  {
   "cell_type": "code",
   "execution_count": 29,
   "id": "ce9d7750",
   "metadata": {},
   "outputs": [
    {
     "data": {
      "text/plain": [
       "0"
      ]
     },
     "execution_count": 29,
     "metadata": {},
     "output_type": "execute_result"
    },
    {
     "data": {
      "text/plain": [
       "<Figure size 4000x4000 with 0 Axes>"
      ]
     },
     "metadata": {},
     "output_type": "display_data"
    }
   ],
   "source": [
    "mainland.meta_show_species_distribution(sub_row=1, sub_col=1, hab_num_x_axis_in_patch=10, hab_num_y_axis_in_patch=10, hab_y_len=20, hab_x_len=20, vmin=1, vmax=100, cmap=plt.get_cmap('gist_rainbow'), file_name='mainland_sp_dis_before_initilization.jpg')"
   ]
  },
  {
   "cell_type": "markdown",
   "id": "88664097",
   "metadata": {},
   "source": [
    "Then, 'mainland_sp_dis_before_initilization.jpg' is plotted in the folder. Now, the mainland is empty and there exits no species in the mainland."
   ]
  },
  {
   "cell_type": "markdown",
   "id": "0b27b6b6",
   "metadata": {},
   "source": [
    "Next, we need to initilize the species in the mainland. To do so, we call the function as follow,"
   ]
  },
  {
   "cell_type": "code",
   "execution_count": 30,
   "id": "8004bfc2",
   "metadata": {},
   "outputs": [
    {
     "name": "stdout",
     "output_type": "stream",
     "text": [
      "[[0.0, 0.0], [0.0, 0.1], [0.0, 0.2], [0.0, 0.3], [0.0, 0.4], [0.0, 0.5], [0.0, 0.6], [0.0, 0.7], [0.0, 0.8], [0.0, 0.9], [0.1, 0.0], [0.1, 0.1], [0.1, 0.2], [0.1, 0.3], [0.1, 0.4], [0.1, 0.5], [0.1, 0.6], [0.1, 0.7], [0.1, 0.8], [0.1, 0.9], [0.2, 0.0], [0.2, 0.1], [0.2, 0.2], [0.2, 0.3], [0.2, 0.4], [0.2, 0.5], [0.2, 0.6], [0.2, 0.7], [0.2, 0.8], [0.2, 0.9], [0.3, 0.0], [0.3, 0.1], [0.3, 0.2], [0.3, 0.3], [0.3, 0.4], [0.3, 0.5], [0.3, 0.6], [0.3, 0.7], [0.3, 0.8], [0.3, 0.9], [0.4, 0.0], [0.4, 0.1], [0.4, 0.2], [0.4, 0.3], [0.4, 0.4], [0.4, 0.5], [0.4, 0.6], [0.4, 0.7], [0.4, 0.8], [0.4, 0.9], [0.5, 0.0], [0.5, 0.1], [0.5, 0.2], [0.5, 0.3], [0.5, 0.4], [0.5, 0.5], [0.5, 0.6], [0.5, 0.7], [0.5, 0.8], [0.5, 0.9], [0.6, 0.0], [0.6, 0.1], [0.6, 0.2], [0.6, 0.3], [0.6, 0.4], [0.6, 0.5], [0.6, 0.6], [0.6, 0.7], [0.6, 0.8], [0.6, 0.9], [0.7, 0.0], [0.7, 0.1], [0.7, 0.2], [0.7, 0.3], [0.7, 0.4], [0.7, 0.5], [0.7, 0.6], [0.7, 0.7], [0.7, 0.8], [0.7, 0.9], [0.8, 0.0], [0.8, 0.1], [0.8, 0.2], [0.8, 0.3], [0.8, 0.4], [0.8, 0.5], [0.8, 0.6], [0.8, 0.7], [0.8, 0.8], [0.8, 0.9], [0.9, 0.0], [0.9, 0.1], [0.9, 0.2], [0.9, 0.3], [0.9, 0.4], [0.9, 0.5], [0.9, 0.6], [0.9, 0.7], [0.9, 0.8], [0.9, 0.9]]\n"
     ]
    }
   ],
   "source": [
    "species_2_phenotype_ls = [[i/10, j/10] for i in range(0,10) for j in range(0,10)]\n",
    "print(species_2_phenotype_ls)"
   ]
  },
  {
   "cell_type": "markdown",
   "id": "7fe1f42f",
   "metadata": {},
   "source": [
    "species_2_phenotype_ls is used to define the phenotypes of all the species in the mainland with the index of the list is the index of the species.\n",
    "\n",
    "For examples:\n",
    "species_2_phenotype_ls[i] is the ('x_axis_phenotype', 'y_axis_phenotype') of species_i.\n"
   ]
  },
  {
   "cell_type": "code",
   "execution_count": 31,
   "id": "812ad5b0",
   "metadata": {},
   "outputs": [
    {
     "data": {
      "text/plain": [
       "'mainland initialization done! \\n'"
      ]
     },
     "execution_count": 31,
     "metadata": {},
     "output_type": "execute_result"
    }
   ],
   "source": [
    "mainland.meta_initialize(traits_num=2, pheno_names_ls=('x_axis_phenotype', 'y_axis_phenotype'), pheno_var_ls=(0.025, 0.025), geno_len_ls=(20, 20), reproduce_mode='asexual', species_2_phenotype_ls=species_2_phenotype_ls)"
   ]
  },
  {
   "cell_type": "markdown",
   "id": "8cfe2cba",
   "metadata": {},
   "source": [
    "After the initilization, we plot the species distribution of the mainland again!"
   ]
  },
  {
   "cell_type": "code",
   "execution_count": 32,
   "id": "45d96116",
   "metadata": {},
   "outputs": [
    {
     "data": {
      "text/plain": [
       "0"
      ]
     },
     "execution_count": 32,
     "metadata": {},
     "output_type": "execute_result"
    },
    {
     "data": {
      "text/plain": [
       "<Figure size 4000x4000 with 0 Axes>"
      ]
     },
     "metadata": {},
     "output_type": "display_data"
    }
   ],
   "source": [
    "mainland.meta_show_species_distribution(sub_row=1, sub_col=1, hab_num_x_axis_in_patch=10, hab_num_y_axis_in_patch=10, hab_y_len=20, hab_x_len=20, vmin=1, vmax=100, cmap=plt.get_cmap('gist_rainbow'), file_name='mainland_sp_dis_after_initilization.jpg')"
   ]
  },
  {
   "cell_type": "markdown",
   "id": "9b57034e",
   "metadata": {},
   "source": [
    "Then, 'mainland_sp_dis_after_initilization.jpg' is plotted in the folder.\n",
    "After the initilization of species in the mainland, we can find that the mainland is occupied by individuals of all the species and each habitat in the mainland is occupied by the species with hightest fitness to its local environment. "
   ]
  },
  {
   "cell_type": "markdown",
   "id": "d5497b61",
   "metadata": {},
   "source": [
    "Next, we need to generate a initial empty metacommunity with 100 patches (10 patches in rows and 10 patches in columns) and each patches contains 4 habitats."
   ]
  },
  {
   "cell_type": "code",
   "execution_count": 33,
   "id": "1cef6f18",
   "metadata": {},
   "outputs": [],
   "source": [
    "def generating_empty_metacommunity(meta_name, patch_num, patch_location_ls, hab_num, hab_length, hab_width, dormancy_pool_max_size, \n",
    "                                   x_axis_environment_values_ls, y_axis_environment_values_ls, environment_types_num, environment_types_name, \n",
    "                                   environment_variation_ls, is_heterogeneity=False):\n",
    "    ''' '''\n",
    "    log_info = 'generating empty metacommunity ... \\n'\n",
    "    meta_object = metacommunity(metacommunity_name=meta_name)\n",
    "    patch_num_x_axis, patch_num_y_axis = int(np.sqrt(patch_num)), int(np.sqrt(patch_num))\n",
    "    hab_num_x_axis, hab_num_y_axis = int(np.sqrt(hab_num)), int(np.sqrt(hab_num))\n",
    "    \n",
    "    x_axis_env_num, y_axis_env_num = len(x_axis_environment_values_ls), len(y_axis_environment_values_ls)\n",
    "    \n",
    "    for i in range(0, patch_num):\n",
    "        patch_name = 'patch%d'%(i+1)\n",
    "        patch_index = i\n",
    "        location = patch_location_ls[i]\n",
    "        p = patch(patch_name, patch_index, location)\n",
    "        \n",
    "        patch_x_loc, patch_y_loc = location[0], location[1]\n",
    "\n",
    "        for j in range(hab_num):\n",
    "            habitat_name = 'h%s'%str(j)\n",
    "            hab_index = j\n",
    "            \n",
    "            hab_x_loc, hab_y_loc = patch_x_loc*hab_num_x_axis+j//hab_num_y_axis, patch_y_loc*hab_num_y_axis+j%hab_num_y_axis\n",
    "            hab_location = (hab_x_loc, hab_y_loc)\n",
    "            \n",
    "            if is_heterogeneity==False:\n",
    "                x_axis_environment_means_value = x_axis_environment_values_ls[int(hab_x_loc*x_axis_env_num/(patch_num_x_axis*hab_num_x_axis))%x_axis_env_num]\n",
    "                y_axis_environment_means_value = y_axis_environment_values_ls[int(hab_y_loc*y_axis_env_num/(patch_num_y_axis*hab_num_y_axis))%y_axis_env_num]\n",
    "            elif is_heterogeneity==True:\n",
    "                x_axis_min, x_axis_max = x_axis_environment_values_ls[0], x_axis_environment_values_ls[1]\n",
    "                y_axis_min, y_axis_max = y_axis_environment_values_ls[0], y_axis_environment_values_ls[1]\n",
    "                \n",
    "                x_step = (x_axis_max - x_axis_min)/(patch_num_x_axis*hab_num_x_axis)\n",
    "                y_step = (y_axis_max - y_axis_min)/(patch_num_y_axis*hab_num_y_axis)\n",
    "                \n",
    "                x_axis_environment_means_value = x_axis_min+1/2*x_step + x_step*hab_x_loc\n",
    "                y_axis_environment_means_value = y_axis_min+1/2*y_step + y_step*hab_y_loc\n",
    "                \n",
    "            p.add_habitat(hab_name=habitat_name, hab_index=hab_index, hab_location=hab_location, num_env_types=environment_types_num, env_types_name=environment_types_name, \n",
    "                          mean_env_ls=[x_axis_environment_means_value, y_axis_environment_means_value], var_env_ls=environment_variation_ls, length=hab_length, width=hab_width, dormancy_pool_max_size=dormancy_pool_max_size)\n",
    "            \n",
    "            info = '%s: %s, %s, %s, %s: x_axis_environment_value=%s, y_axis_environment_value=%s'%(meta_object.metacommunity_name, patch_name, str(location), habitat_name, str(hab_location), str(x_axis_environment_means_value), str(y_axis_environment_means_value))\n",
    "            log_info = log_info + info + '\\n'\n",
    "        meta_object.add_patch(patch_name=patch_name, patch_object=p)\n",
    "    #print(log_info)\n",
    "    return meta_object, log_info"
   ]
  },
  {
   "cell_type": "code",
   "execution_count": 34,
   "id": "9637d6dd",
   "metadata": {},
   "outputs": [
    {
     "name": "stdout",
     "output_type": "stream",
     "text": [
      "[(0, 0), (0, 1), (0, 2), (0, 3), (0, 4), (0, 5), (0, 6), (0, 7), (0, 8), (0, 9), (1, 0), (1, 1), (1, 2), (1, 3), (1, 4), (1, 5), (1, 6), (1, 7), (1, 8), (1, 9), (2, 0), (2, 1), (2, 2), (2, 3), (2, 4), (2, 5), (2, 6), (2, 7), (2, 8), (2, 9), (3, 0), (3, 1), (3, 2), (3, 3), (3, 4), (3, 5), (3, 6), (3, 7), (3, 8), (3, 9), (4, 0), (4, 1), (4, 2), (4, 3), (4, 4), (4, 5), (4, 6), (4, 7), (4, 8), (4, 9), (5, 0), (5, 1), (5, 2), (5, 3), (5, 4), (5, 5), (5, 6), (5, 7), (5, 8), (5, 9), (6, 0), (6, 1), (6, 2), (6, 3), (6, 4), (6, 5), (6, 6), (6, 7), (6, 8), (6, 9), (7, 0), (7, 1), (7, 2), (7, 3), (7, 4), (7, 5), (7, 6), (7, 7), (7, 8), (7, 9), (8, 0), (8, 1), (8, 2), (8, 3), (8, 4), (8, 5), (8, 6), (8, 7), (8, 8), (8, 9), (9, 0), (9, 1), (9, 2), (9, 3), (9, 4), (9, 5), (9, 6), (9, 7), (9, 8), (9, 9)]\n"
     ]
    }
   ],
   "source": [
    "patch_location_ls = [(i,j) for i in range(10) for j in range(10)]\n",
    "print(patch_location_ls)"
   ]
  },
  {
   "cell_type": "markdown",
   "id": "4ca948d5",
   "metadata": {},
   "source": [
    "patch_location_ls is used to define the X-Y coordinates location of all the patches in the metacommunity with the index of the list is the index of the patch.\n",
    "\n",
    "For examples: patch_location_ls[i] is the (x,y) location of patch_i."
   ]
  },
  {
   "cell_type": "code",
   "execution_count": 35,
   "id": "3999a550",
   "metadata": {},
   "outputs": [],
   "source": [
    "x_axis_environment_values_ls = [0.0,0.1,0.2,0.3,0.4,0.5,0.6,0.7,0.8,0.9]"
   ]
  },
  {
   "cell_type": "markdown",
   "id": "31327257",
   "metadata": {},
   "source": [
    "The gradients of the environmental factors named 'x_axis_environment' in the x-axis direction of the metacommunity landscape."
   ]
  },
  {
   "cell_type": "code",
   "execution_count": 36,
   "id": "6aafb605",
   "metadata": {},
   "outputs": [],
   "source": [
    "y_axis_environment_values_ls = [0.0,0.1,0.2,0.3,0.4,0.5,0.6,0.7,0.8,0.9]"
   ]
  },
  {
   "cell_type": "markdown",
   "id": "78733b72",
   "metadata": {},
   "source": [
    "The gradients of the environmental factors named 'y_axis_environment' in the y-axis direction of the metacommunity landscape.\n"
   ]
  },
  {
   "cell_type": "markdown",
   "id": "8c6ca5da",
   "metadata": {},
   "source": [
    "We can create a metacommunity object by calling the following function as follow,"
   ]
  },
  {
   "cell_type": "code",
   "execution_count": 37,
   "id": "7ca1fac7",
   "metadata": {},
   "outputs": [],
   "source": [
    "meta_obj, log_info = generating_empty_metacommunity(meta_name='metacommunity', patch_num=100, \n",
    "patch_location_ls=patch_location_ls, hab_num=4, hab_length=16, hab_width=16, dormancy_pool_max_size=0, \n",
    "x_axis_environment_values_ls=x_axis_environment_values_ls, y_axis_environment_values_ls=y_axis_environment_values_ls, \n",
    "environment_types_num=2, environment_types_name=('x_axis_environment', 'y_axis_environment'), environment_variation_ls=[0.025, 0.025])"
   ]
  },
  {
   "cell_type": "code",
   "execution_count": 38,
   "id": "b98295a8",
   "metadata": {},
   "outputs": [
    {
     "name": "stdout",
     "output_type": "stream",
     "text": [
      "generating empty metacommunity ... \n",
      "metacommunity: patch1, (0, 0), h0, (0, 0): x_axis_environment_value=0.0, y_axis_environment_value=0.0\n",
      "metacommunity: patch1, (0, 0), h1, (0, 1): x_axis_environment_value=0.0, y_axis_environment_value=0.0\n",
      "metacommunity: patch1, (0, 0), h2, (1, 0): x_axis_environment_value=0.0, y_axis_environment_value=0.0\n",
      "metacommunity: patch1, (0, 0), h3, (1, 1): x_axis_environment_value=0.0, y_axis_environment_value=0.0\n",
      "metacommunity: patch2, (0, 1), h0, (0, 2): x_axis_environment_value=0.0, y_axis_environment_value=0.1\n",
      "metacommunity: patch2, (0, 1), h1, (0, 3): x_axis_environment_value=0.0, y_axis_environment_value=0.1\n",
      "metacommunity: patch2, (0, 1), h2, (1, 2): x_axis_environment_value=0.0, y_axis_environment_value=0.1\n",
      "metacommunity: patch2, (0, 1), h3, (1, 3): x_axis_environment_value=0.0, y_axis_environment_value=0.1\n",
      "metacommunity: patch3, (0, 2), h0, (0, 4): x_axis_environment_value=0.0, y_axis_environment_value=0.2\n",
      "metacommunity: patch3, (0, 2), h1, (0, 5): x_axis_environment_value=0.0, y_axis_environment_value=0.2\n",
      "metacommunity: patch3, (0, 2), h2, (1, 4): x_axis_environment_value=0.0, y_axis_environment_value=0.2\n",
      "metacommunity: patch3, (0, 2), h3, (1, 5): x_axis_environment_value=0.0, y_axis_environment_value=0.2\n",
      "metacommunity: patch4, (0, 3), h0, (0, 6): x_axis_environment_value=0.0, y_axis_environment_value=0.3\n",
      "metacommunity: patch4, (0, 3), h1, (0, 7): x_axis_environment_value=0.0, y_axis_environment_value=0.3\n",
      "metacommunity: patch4, (0, 3), h2, (1, 6): x_axis_environment_value=0.0, y_axis_environment_value=0.3\n",
      "metacommunity: patch4, (0, 3), h3, (1, 7): x_axis_environment_value=0.0, y_axis_environment_value=0.3\n",
      "metacommunity: patch5, (0, 4), h0, (0, 8): x_axis_environment_value=0.0, y_axis_environment_value=0.4\n",
      "metacommunity: patch5, (0, 4), h1, (0, 9): x_axis_environment_value=0.0, y_axis_environment_value=0.4\n",
      "metacommunity: patch5, (0, 4), h2, (1, 8): x_axis_environment_value=0.0, y_axis_environment_value=0.4\n",
      "metacommunity: patch5, (0, 4), h3, (1, 9): x_axis_environment_value=0.0, y_axis_environment_value=0.4\n",
      "metacommunity: patch6, (0, 5), h0, (0, 10): x_axis_environment_value=0.0, y_axis_environment_value=0.5\n",
      "metacommunity: patch6, (0, 5), h1, (0, 11): x_axis_environment_value=0.0, y_axis_environment_value=0.5\n",
      "metacommunity: patch6, (0, 5), h2, (1, 10): x_axis_environment_value=0.0, y_axis_environment_value=0.5\n",
      "metacommunity: patch6, (0, 5), h3, (1, 11): x_axis_environment_value=0.0, y_axis_environment_value=0.5\n",
      "metacommunity: patch7, (0, 6), h0, (0, 12): x_axis_environment_value=0.0, y_axis_environment_value=0.6\n",
      "metacommunity: patch7, (0, 6), h1, (0, 13): x_axis_environment_value=0.0, y_axis_environment_value=0.6\n",
      "metacommunity: patch7, (0, 6), h2, (1, 12): x_axis_environment_value=0.0, y_axis_environment_value=0.6\n",
      "metacommunity: patch7, (0, 6), h3, (1, 13): x_axis_environment_value=0.0, y_axis_environment_value=0.6\n",
      "metacommunity: patch8, (0, 7), h0, (0, 14): x_axis_environment_value=0.0, y_axis_environment_value=0.7\n",
      "metacommunity: patch8, (0, 7), h1, (0, 15): x_axis_environment_value=0.0, y_axis_environment_value=0.7\n",
      "metacommunity: patch8, (0, 7), h2, (1, 14): x_axis_environment_value=0.0, y_axis_environment_value=0.7\n",
      "metacommunity: patch8, (0, 7), h3, (1, 15): x_axis_environment_value=0.0, y_axis_environment_value=0.7\n",
      "metacommunity: patch9, (0, 8), h0, (0, 16): x_axis_environment_value=0.0, y_axis_environment_value=0.8\n",
      "metacommunity: patch9, (0, 8), h1, (0, 17): x_axis_environment_value=0.0, y_axis_environment_value=0.8\n",
      "metacommunity: patch9, (0, 8), h2, (1, 16): x_axis_environment_value=0.0, y_axis_environment_value=0.8\n",
      "metacommunity: patch9, (0, 8), h3, (1, 17): x_axis_environment_value=0.0, y_axis_environment_value=0.8\n",
      "metacommunity: patch10, (0, 9), h0, (0, 18): x_axis_environment_value=0.0, y_axis_environment_value=0.9\n",
      "metacommunity: patch10, (0, 9), h1, (0, 19): x_axis_environment_value=0.0, y_axis_environment_value=0.9\n",
      "metacommunity: patch10, (0, 9), h2, (1, 18): x_axis_environment_value=0.0, y_axis_environment_value=0.9\n",
      "metacommunity: patch10, (0, 9), h3, (1, 19): x_axis_environment_value=0.0, y_axis_environment_value=0.9\n",
      "metacommunity: patch11, (1, 0), h0, (2, 0): x_axis_environment_value=0.1, y_axis_environment_value=0.0\n",
      "metacommunity: patch11, (1, 0), h1, (2, 1): x_axis_environment_value=0.1, y_axis_environment_value=0.0\n",
      "metacommunity: patch11, (1, 0), h2, (3, 0): x_axis_environment_value=0.1, y_axis_environment_value=0.0\n",
      "metacommunity: patch11, (1, 0), h3, (3, 1): x_axis_environment_value=0.1, y_axis_environment_value=0.0\n",
      "metacommunity: patch12, (1, 1), h0, (2, 2): x_axis_environment_value=0.1, y_axis_environment_value=0.1\n",
      "metacommunity: patch12, (1, 1), h1, (2, 3): x_axis_environment_value=0.1, y_axis_environment_value=0.1\n",
      "metacommunity: patch12, (1, 1), h2, (3, 2): x_axis_environment_value=0.1, y_axis_environment_value=0.1\n",
      "metacommunity: patch12, (1, 1), h3, (3, 3): x_axis_environment_value=0.1, y_axis_environment_value=0.1\n",
      "metacommunity: patch13, (1, 2), h0, (2, 4): x_axis_environment_value=0.1, y_axis_environment_value=0.2\n",
      "metacommunity: patch13, (1, 2), h1, (2, 5): x_axis_environment_value=0.1, y_axis_environment_value=0.2\n",
      "metacommunity: patch13, (1, 2), h2, (3, 4): x_axis_environment_value=0.1, y_axis_environment_value=0.2\n",
      "metacommunity: patch13, (1, 2), h3, (3, 5): x_axis_environment_value=0.1, y_axis_environment_value=0.2\n",
      "metacommunity: patch14, (1, 3), h0, (2, 6): x_axis_environment_value=0.1, y_axis_environment_value=0.3\n",
      "metacommunity: patch14, (1, 3), h1, (2, 7): x_axis_environment_value=0.1, y_axis_environment_value=0.3\n",
      "metacommunity: patch14, (1, 3), h2, (3, 6): x_axis_environment_value=0.1, y_axis_environment_value=0.3\n",
      "metacommunity: patch14, (1, 3), h3, (3, 7): x_axis_environment_value=0.1, y_axis_environment_value=0.3\n",
      "metacommunity: patch15, (1, 4), h0, (2, 8): x_axis_environment_value=0.1, y_axis_environment_value=0.4\n",
      "metacommunity: patch15, (1, 4), h1, (2, 9): x_axis_environment_value=0.1, y_axis_environment_value=0.4\n",
      "metacommunity: patch15, (1, 4), h2, (3, 8): x_axis_environment_value=0.1, y_axis_environment_value=0.4\n",
      "metacommunity: patch15, (1, 4), h3, (3, 9): x_axis_environment_value=0.1, y_axis_environment_value=0.4\n",
      "metacommunity: patch16, (1, 5), h0, (2, 10): x_axis_environment_value=0.1, y_axis_environment_value=0.5\n",
      "metacommunity: patch16, (1, 5), h1, (2, 11): x_axis_environment_value=0.1, y_axis_environment_value=0.5\n",
      "metacommunity: patch16, (1, 5), h2, (3, 10): x_axis_environment_value=0.1, y_axis_environment_value=0.5\n",
      "metacommunity: patch16, (1, 5), h3, (3, 11): x_axis_environment_value=0.1, y_axis_environment_value=0.5\n",
      "metacommunity: patch17, (1, 6), h0, (2, 12): x_axis_environment_value=0.1, y_axis_environment_value=0.6\n",
      "metacommunity: patch17, (1, 6), h1, (2, 13): x_axis_environment_value=0.1, y_axis_environment_value=0.6\n",
      "metacommunity: patch17, (1, 6), h2, (3, 12): x_axis_environment_value=0.1, y_axis_environment_value=0.6\n",
      "metacommunity: patch17, (1, 6), h3, (3, 13): x_axis_environment_value=0.1, y_axis_environment_value=0.6\n",
      "metacommunity: patch18, (1, 7), h0, (2, 14): x_axis_environment_value=0.1, y_axis_environment_value=0.7\n",
      "metacommunity: patch18, (1, 7), h1, (2, 15): x_axis_environment_value=0.1, y_axis_environment_value=0.7\n",
      "metacommunity: patch18, (1, 7), h2, (3, 14): x_axis_environment_value=0.1, y_axis_environment_value=0.7\n",
      "metacommunity: patch18, (1, 7), h3, (3, 15): x_axis_environment_value=0.1, y_axis_environment_value=0.7\n",
      "metacommunity: patch19, (1, 8), h0, (2, 16): x_axis_environment_value=0.1, y_axis_environment_value=0.8\n",
      "metacommunity: patch19, (1, 8), h1, (2, 17): x_axis_environment_value=0.1, y_axis_environment_value=0.8\n",
      "metacommunity: patch19, (1, 8), h2, (3, 16): x_axis_environment_value=0.1, y_axis_environment_value=0.8\n",
      "metacommunity: patch19, (1, 8), h3, (3, 17): x_axis_environment_value=0.1, y_axis_environment_value=0.8\n",
      "metacommunity: patch20, (1, 9), h0, (2, 18): x_axis_environment_value=0.1, y_axis_environment_value=0.9\n",
      "metacommunity: patch20, (1, 9), h1, (2, 19): x_axis_environment_value=0.1, y_axis_environment_value=0.9\n",
      "metacommunity: patch20, (1, 9), h2, (3, 18): x_axis_environment_value=0.1, y_axis_environment_value=0.9\n",
      "metacommunity: patch20, (1, 9), h3, (3, 19): x_axis_environment_value=0.1, y_axis_environment_value=0.9\n",
      "metacommunity: patch21, (2, 0), h0, (4, 0): x_axis_environment_value=0.2, y_axis_environment_value=0.0\n",
      "metacommunity: patch21, (2, 0), h1, (4, 1): x_axis_environment_value=0.2, y_axis_environment_value=0.0\n",
      "metacommunity: patch21, (2, 0), h2, (5, 0): x_axis_environment_value=0.2, y_axis_environment_value=0.0\n",
      "metacommunity: patch21, (2, 0), h3, (5, 1): x_axis_environment_value=0.2, y_axis_environment_value=0.0\n",
      "metacommunity: patch22, (2, 1), h0, (4, 2): x_axis_environment_value=0.2, y_axis_environment_value=0.1\n",
      "metacommunity: patch22, (2, 1), h1, (4, 3): x_axis_environment_value=0.2, y_axis_environment_value=0.1\n",
      "metacommunity: patch22, (2, 1), h2, (5, 2): x_axis_environment_value=0.2, y_axis_environment_value=0.1\n",
      "metacommunity: patch22, (2, 1), h3, (5, 3): x_axis_environment_value=0.2, y_axis_environment_value=0.1\n",
      "metacommunity: patch23, (2, 2), h0, (4, 4): x_axis_environment_value=0.2, y_axis_environment_value=0.2\n",
      "metacommunity: patch23, (2, 2), h1, (4, 5): x_axis_environment_value=0.2, y_axis_environment_value=0.2\n",
      "metacommunity: patch23, (2, 2), h2, (5, 4): x_axis_environment_value=0.2, y_axis_environment_value=0.2\n",
      "metacommunity: patch23, (2, 2), h3, (5, 5): x_axis_environment_value=0.2, y_axis_environment_value=0.2\n",
      "metacommunity: patch24, (2, 3), h0, (4, 6): x_axis_environment_value=0.2, y_axis_environment_value=0.3\n",
      "metacommunity: patch24, (2, 3), h1, (4, 7): x_axis_environment_value=0.2, y_axis_environment_value=0.3\n",
      "metacommunity: patch24, (2, 3), h2, (5, 6): x_axis_environment_value=0.2, y_axis_environment_value=0.3\n",
      "metacommunity: patch24, (2, 3), h3, (5, 7): x_axis_environment_value=0.2, y_axis_environment_value=0.3\n",
      "metacommunity: patch25, (2, 4), h0, (4, 8): x_axis_environment_value=0.2, y_axis_environment_value=0.4\n",
      "metacommunity: patch25, (2, 4), h1, (4, 9): x_axis_environment_value=0.2, y_axis_environment_value=0.4\n",
      "metacommunity: patch25, (2, 4), h2, (5, 8): x_axis_environment_value=0.2, y_axis_environment_value=0.4\n",
      "metacommunity: patch25, (2, 4), h3, (5, 9): x_axis_environment_value=0.2, y_axis_environment_value=0.4\n",
      "metacommunity: patch26, (2, 5), h0, (4, 10): x_axis_environment_value=0.2, y_axis_environment_value=0.5\n",
      "metacommunity: patch26, (2, 5), h1, (4, 11): x_axis_environment_value=0.2, y_axis_environment_value=0.5\n",
      "metacommunity: patch26, (2, 5), h2, (5, 10): x_axis_environment_value=0.2, y_axis_environment_value=0.5\n",
      "metacommunity: patch26, (2, 5), h3, (5, 11): x_axis_environment_value=0.2, y_axis_environment_value=0.5\n",
      "metacommunity: patch27, (2, 6), h0, (4, 12): x_axis_environment_value=0.2, y_axis_environment_value=0.6\n",
      "metacommunity: patch27, (2, 6), h1, (4, 13): x_axis_environment_value=0.2, y_axis_environment_value=0.6\n",
      "metacommunity: patch27, (2, 6), h2, (5, 12): x_axis_environment_value=0.2, y_axis_environment_value=0.6\n",
      "metacommunity: patch27, (2, 6), h3, (5, 13): x_axis_environment_value=0.2, y_axis_environment_value=0.6\n",
      "metacommunity: patch28, (2, 7), h0, (4, 14): x_axis_environment_value=0.2, y_axis_environment_value=0.7\n",
      "metacommunity: patch28, (2, 7), h1, (4, 15): x_axis_environment_value=0.2, y_axis_environment_value=0.7\n",
      "metacommunity: patch28, (2, 7), h2, (5, 14): x_axis_environment_value=0.2, y_axis_environment_value=0.7\n",
      "metacommunity: patch28, (2, 7), h3, (5, 15): x_axis_environment_value=0.2, y_axis_environment_value=0.7\n",
      "metacommunity: patch29, (2, 8), h0, (4, 16): x_axis_environment_value=0.2, y_axis_environment_value=0.8\n",
      "metacommunity: patch29, (2, 8), h1, (4, 17): x_axis_environment_value=0.2, y_axis_environment_value=0.8\n",
      "metacommunity: patch29, (2, 8), h2, (5, 16): x_axis_environment_value=0.2, y_axis_environment_value=0.8\n",
      "metacommunity: patch29, (2, 8), h3, (5, 17): x_axis_environment_value=0.2, y_axis_environment_value=0.8\n",
      "metacommunity: patch30, (2, 9), h0, (4, 18): x_axis_environment_value=0.2, y_axis_environment_value=0.9\n",
      "metacommunity: patch30, (2, 9), h1, (4, 19): x_axis_environment_value=0.2, y_axis_environment_value=0.9\n",
      "metacommunity: patch30, (2, 9), h2, (5, 18): x_axis_environment_value=0.2, y_axis_environment_value=0.9\n",
      "metacommunity: patch30, (2, 9), h3, (5, 19): x_axis_environment_value=0.2, y_axis_environment_value=0.9\n",
      "metacommunity: patch31, (3, 0), h0, (6, 0): x_axis_environment_value=0.3, y_axis_environment_value=0.0\n",
      "metacommunity: patch31, (3, 0), h1, (6, 1): x_axis_environment_value=0.3, y_axis_environment_value=0.0\n",
      "metacommunity: patch31, (3, 0), h2, (7, 0): x_axis_environment_value=0.3, y_axis_environment_value=0.0\n",
      "metacommunity: patch31, (3, 0), h3, (7, 1): x_axis_environment_value=0.3, y_axis_environment_value=0.0\n",
      "metacommunity: patch32, (3, 1), h0, (6, 2): x_axis_environment_value=0.3, y_axis_environment_value=0.1\n",
      "metacommunity: patch32, (3, 1), h1, (6, 3): x_axis_environment_value=0.3, y_axis_environment_value=0.1\n",
      "metacommunity: patch32, (3, 1), h2, (7, 2): x_axis_environment_value=0.3, y_axis_environment_value=0.1\n",
      "metacommunity: patch32, (3, 1), h3, (7, 3): x_axis_environment_value=0.3, y_axis_environment_value=0.1\n",
      "metacommunity: patch33, (3, 2), h0, (6, 4): x_axis_environment_value=0.3, y_axis_environment_value=0.2\n",
      "metacommunity: patch33, (3, 2), h1, (6, 5): x_axis_environment_value=0.3, y_axis_environment_value=0.2\n",
      "metacommunity: patch33, (3, 2), h2, (7, 4): x_axis_environment_value=0.3, y_axis_environment_value=0.2\n",
      "metacommunity: patch33, (3, 2), h3, (7, 5): x_axis_environment_value=0.3, y_axis_environment_value=0.2\n",
      "metacommunity: patch34, (3, 3), h0, (6, 6): x_axis_environment_value=0.3, y_axis_environment_value=0.3\n",
      "metacommunity: patch34, (3, 3), h1, (6, 7): x_axis_environment_value=0.3, y_axis_environment_value=0.3\n",
      "metacommunity: patch34, (3, 3), h2, (7, 6): x_axis_environment_value=0.3, y_axis_environment_value=0.3\n",
      "metacommunity: patch34, (3, 3), h3, (7, 7): x_axis_environment_value=0.3, y_axis_environment_value=0.3\n",
      "metacommunity: patch35, (3, 4), h0, (6, 8): x_axis_environment_value=0.3, y_axis_environment_value=0.4\n",
      "metacommunity: patch35, (3, 4), h1, (6, 9): x_axis_environment_value=0.3, y_axis_environment_value=0.4\n",
      "metacommunity: patch35, (3, 4), h2, (7, 8): x_axis_environment_value=0.3, y_axis_environment_value=0.4\n",
      "metacommunity: patch35, (3, 4), h3, (7, 9): x_axis_environment_value=0.3, y_axis_environment_value=0.4\n",
      "metacommunity: patch36, (3, 5), h0, (6, 10): x_axis_environment_value=0.3, y_axis_environment_value=0.5\n",
      "metacommunity: patch36, (3, 5), h1, (6, 11): x_axis_environment_value=0.3, y_axis_environment_value=0.5\n",
      "metacommunity: patch36, (3, 5), h2, (7, 10): x_axis_environment_value=0.3, y_axis_environment_value=0.5\n",
      "metacommunity: patch36, (3, 5), h3, (7, 11): x_axis_environment_value=0.3, y_axis_environment_value=0.5\n",
      "metacommunity: patch37, (3, 6), h0, (6, 12): x_axis_environment_value=0.3, y_axis_environment_value=0.6\n",
      "metacommunity: patch37, (3, 6), h1, (6, 13): x_axis_environment_value=0.3, y_axis_environment_value=0.6\n",
      "metacommunity: patch37, (3, 6), h2, (7, 12): x_axis_environment_value=0.3, y_axis_environment_value=0.6\n",
      "metacommunity: patch37, (3, 6), h3, (7, 13): x_axis_environment_value=0.3, y_axis_environment_value=0.6\n",
      "metacommunity: patch38, (3, 7), h0, (6, 14): x_axis_environment_value=0.3, y_axis_environment_value=0.7\n",
      "metacommunity: patch38, (3, 7), h1, (6, 15): x_axis_environment_value=0.3, y_axis_environment_value=0.7\n",
      "metacommunity: patch38, (3, 7), h2, (7, 14): x_axis_environment_value=0.3, y_axis_environment_value=0.7\n",
      "metacommunity: patch38, (3, 7), h3, (7, 15): x_axis_environment_value=0.3, y_axis_environment_value=0.7\n",
      "metacommunity: patch39, (3, 8), h0, (6, 16): x_axis_environment_value=0.3, y_axis_environment_value=0.8\n",
      "metacommunity: patch39, (3, 8), h1, (6, 17): x_axis_environment_value=0.3, y_axis_environment_value=0.8\n",
      "metacommunity: patch39, (3, 8), h2, (7, 16): x_axis_environment_value=0.3, y_axis_environment_value=0.8\n",
      "metacommunity: patch39, (3, 8), h3, (7, 17): x_axis_environment_value=0.3, y_axis_environment_value=0.8\n",
      "metacommunity: patch40, (3, 9), h0, (6, 18): x_axis_environment_value=0.3, y_axis_environment_value=0.9\n",
      "metacommunity: patch40, (3, 9), h1, (6, 19): x_axis_environment_value=0.3, y_axis_environment_value=0.9\n",
      "metacommunity: patch40, (3, 9), h2, (7, 18): x_axis_environment_value=0.3, y_axis_environment_value=0.9\n",
      "metacommunity: patch40, (3, 9), h3, (7, 19): x_axis_environment_value=0.3, y_axis_environment_value=0.9\n",
      "metacommunity: patch41, (4, 0), h0, (8, 0): x_axis_environment_value=0.4, y_axis_environment_value=0.0\n",
      "metacommunity: patch41, (4, 0), h1, (8, 1): x_axis_environment_value=0.4, y_axis_environment_value=0.0\n",
      "metacommunity: patch41, (4, 0), h2, (9, 0): x_axis_environment_value=0.4, y_axis_environment_value=0.0\n",
      "metacommunity: patch41, (4, 0), h3, (9, 1): x_axis_environment_value=0.4, y_axis_environment_value=0.0\n",
      "metacommunity: patch42, (4, 1), h0, (8, 2): x_axis_environment_value=0.4, y_axis_environment_value=0.1\n",
      "metacommunity: patch42, (4, 1), h1, (8, 3): x_axis_environment_value=0.4, y_axis_environment_value=0.1\n",
      "metacommunity: patch42, (4, 1), h2, (9, 2): x_axis_environment_value=0.4, y_axis_environment_value=0.1\n",
      "metacommunity: patch42, (4, 1), h3, (9, 3): x_axis_environment_value=0.4, y_axis_environment_value=0.1\n",
      "metacommunity: patch43, (4, 2), h0, (8, 4): x_axis_environment_value=0.4, y_axis_environment_value=0.2\n",
      "metacommunity: patch43, (4, 2), h1, (8, 5): x_axis_environment_value=0.4, y_axis_environment_value=0.2\n",
      "metacommunity: patch43, (4, 2), h2, (9, 4): x_axis_environment_value=0.4, y_axis_environment_value=0.2\n",
      "metacommunity: patch43, (4, 2), h3, (9, 5): x_axis_environment_value=0.4, y_axis_environment_value=0.2\n",
      "metacommunity: patch44, (4, 3), h0, (8, 6): x_axis_environment_value=0.4, y_axis_environment_value=0.3\n",
      "metacommunity: patch44, (4, 3), h1, (8, 7): x_axis_environment_value=0.4, y_axis_environment_value=0.3\n",
      "metacommunity: patch44, (4, 3), h2, (9, 6): x_axis_environment_value=0.4, y_axis_environment_value=0.3\n",
      "metacommunity: patch44, (4, 3), h3, (9, 7): x_axis_environment_value=0.4, y_axis_environment_value=0.3\n",
      "metacommunity: patch45, (4, 4), h0, (8, 8): x_axis_environment_value=0.4, y_axis_environment_value=0.4\n",
      "metacommunity: patch45, (4, 4), h1, (8, 9): x_axis_environment_value=0.4, y_axis_environment_value=0.4\n",
      "metacommunity: patch45, (4, 4), h2, (9, 8): x_axis_environment_value=0.4, y_axis_environment_value=0.4\n",
      "metacommunity: patch45, (4, 4), h3, (9, 9): x_axis_environment_value=0.4, y_axis_environment_value=0.4\n",
      "metacommunity: patch46, (4, 5), h0, (8, 10): x_axis_environment_value=0.4, y_axis_environment_value=0.5\n",
      "metacommunity: patch46, (4, 5), h1, (8, 11): x_axis_environment_value=0.4, y_axis_environment_value=0.5\n",
      "metacommunity: patch46, (4, 5), h2, (9, 10): x_axis_environment_value=0.4, y_axis_environment_value=0.5\n",
      "metacommunity: patch46, (4, 5), h3, (9, 11): x_axis_environment_value=0.4, y_axis_environment_value=0.5\n",
      "metacommunity: patch47, (4, 6), h0, (8, 12): x_axis_environment_value=0.4, y_axis_environment_value=0.6\n",
      "metacommunity: patch47, (4, 6), h1, (8, 13): x_axis_environment_value=0.4, y_axis_environment_value=0.6\n",
      "metacommunity: patch47, (4, 6), h2, (9, 12): x_axis_environment_value=0.4, y_axis_environment_value=0.6\n",
      "metacommunity: patch47, (4, 6), h3, (9, 13): x_axis_environment_value=0.4, y_axis_environment_value=0.6\n",
      "metacommunity: patch48, (4, 7), h0, (8, 14): x_axis_environment_value=0.4, y_axis_environment_value=0.7\n",
      "metacommunity: patch48, (4, 7), h1, (8, 15): x_axis_environment_value=0.4, y_axis_environment_value=0.7\n",
      "metacommunity: patch48, (4, 7), h2, (9, 14): x_axis_environment_value=0.4, y_axis_environment_value=0.7\n",
      "metacommunity: patch48, (4, 7), h3, (9, 15): x_axis_environment_value=0.4, y_axis_environment_value=0.7\n",
      "metacommunity: patch49, (4, 8), h0, (8, 16): x_axis_environment_value=0.4, y_axis_environment_value=0.8\n",
      "metacommunity: patch49, (4, 8), h1, (8, 17): x_axis_environment_value=0.4, y_axis_environment_value=0.8\n",
      "metacommunity: patch49, (4, 8), h2, (9, 16): x_axis_environment_value=0.4, y_axis_environment_value=0.8\n",
      "metacommunity: patch49, (4, 8), h3, (9, 17): x_axis_environment_value=0.4, y_axis_environment_value=0.8\n",
      "metacommunity: patch50, (4, 9), h0, (8, 18): x_axis_environment_value=0.4, y_axis_environment_value=0.9\n",
      "metacommunity: patch50, (4, 9), h1, (8, 19): x_axis_environment_value=0.4, y_axis_environment_value=0.9\n",
      "metacommunity: patch50, (4, 9), h2, (9, 18): x_axis_environment_value=0.4, y_axis_environment_value=0.9\n",
      "metacommunity: patch50, (4, 9), h3, (9, 19): x_axis_environment_value=0.4, y_axis_environment_value=0.9\n",
      "metacommunity: patch51, (5, 0), h0, (10, 0): x_axis_environment_value=0.5, y_axis_environment_value=0.0\n",
      "metacommunity: patch51, (5, 0), h1, (10, 1): x_axis_environment_value=0.5, y_axis_environment_value=0.0\n",
      "metacommunity: patch51, (5, 0), h2, (11, 0): x_axis_environment_value=0.5, y_axis_environment_value=0.0\n",
      "metacommunity: patch51, (5, 0), h3, (11, 1): x_axis_environment_value=0.5, y_axis_environment_value=0.0\n",
      "metacommunity: patch52, (5, 1), h0, (10, 2): x_axis_environment_value=0.5, y_axis_environment_value=0.1\n",
      "metacommunity: patch52, (5, 1), h1, (10, 3): x_axis_environment_value=0.5, y_axis_environment_value=0.1\n",
      "metacommunity: patch52, (5, 1), h2, (11, 2): x_axis_environment_value=0.5, y_axis_environment_value=0.1\n",
      "metacommunity: patch52, (5, 1), h3, (11, 3): x_axis_environment_value=0.5, y_axis_environment_value=0.1\n",
      "metacommunity: patch53, (5, 2), h0, (10, 4): x_axis_environment_value=0.5, y_axis_environment_value=0.2\n",
      "metacommunity: patch53, (5, 2), h1, (10, 5): x_axis_environment_value=0.5, y_axis_environment_value=0.2\n",
      "metacommunity: patch53, (5, 2), h2, (11, 4): x_axis_environment_value=0.5, y_axis_environment_value=0.2\n",
      "metacommunity: patch53, (5, 2), h3, (11, 5): x_axis_environment_value=0.5, y_axis_environment_value=0.2\n",
      "metacommunity: patch54, (5, 3), h0, (10, 6): x_axis_environment_value=0.5, y_axis_environment_value=0.3\n",
      "metacommunity: patch54, (5, 3), h1, (10, 7): x_axis_environment_value=0.5, y_axis_environment_value=0.3\n",
      "metacommunity: patch54, (5, 3), h2, (11, 6): x_axis_environment_value=0.5, y_axis_environment_value=0.3\n",
      "metacommunity: patch54, (5, 3), h3, (11, 7): x_axis_environment_value=0.5, y_axis_environment_value=0.3\n",
      "metacommunity: patch55, (5, 4), h0, (10, 8): x_axis_environment_value=0.5, y_axis_environment_value=0.4\n",
      "metacommunity: patch55, (5, 4), h1, (10, 9): x_axis_environment_value=0.5, y_axis_environment_value=0.4\n",
      "metacommunity: patch55, (5, 4), h2, (11, 8): x_axis_environment_value=0.5, y_axis_environment_value=0.4\n",
      "metacommunity: patch55, (5, 4), h3, (11, 9): x_axis_environment_value=0.5, y_axis_environment_value=0.4\n",
      "metacommunity: patch56, (5, 5), h0, (10, 10): x_axis_environment_value=0.5, y_axis_environment_value=0.5\n",
      "metacommunity: patch56, (5, 5), h1, (10, 11): x_axis_environment_value=0.5, y_axis_environment_value=0.5\n",
      "metacommunity: patch56, (5, 5), h2, (11, 10): x_axis_environment_value=0.5, y_axis_environment_value=0.5\n",
      "metacommunity: patch56, (5, 5), h3, (11, 11): x_axis_environment_value=0.5, y_axis_environment_value=0.5\n",
      "metacommunity: patch57, (5, 6), h0, (10, 12): x_axis_environment_value=0.5, y_axis_environment_value=0.6\n",
      "metacommunity: patch57, (5, 6), h1, (10, 13): x_axis_environment_value=0.5, y_axis_environment_value=0.6\n",
      "metacommunity: patch57, (5, 6), h2, (11, 12): x_axis_environment_value=0.5, y_axis_environment_value=0.6\n",
      "metacommunity: patch57, (5, 6), h3, (11, 13): x_axis_environment_value=0.5, y_axis_environment_value=0.6\n",
      "metacommunity: patch58, (5, 7), h0, (10, 14): x_axis_environment_value=0.5, y_axis_environment_value=0.7\n",
      "metacommunity: patch58, (5, 7), h1, (10, 15): x_axis_environment_value=0.5, y_axis_environment_value=0.7\n",
      "metacommunity: patch58, (5, 7), h2, (11, 14): x_axis_environment_value=0.5, y_axis_environment_value=0.7\n",
      "metacommunity: patch58, (5, 7), h3, (11, 15): x_axis_environment_value=0.5, y_axis_environment_value=0.7\n",
      "metacommunity: patch59, (5, 8), h0, (10, 16): x_axis_environment_value=0.5, y_axis_environment_value=0.8\n",
      "metacommunity: patch59, (5, 8), h1, (10, 17): x_axis_environment_value=0.5, y_axis_environment_value=0.8\n",
      "metacommunity: patch59, (5, 8), h2, (11, 16): x_axis_environment_value=0.5, y_axis_environment_value=0.8\n",
      "metacommunity: patch59, (5, 8), h3, (11, 17): x_axis_environment_value=0.5, y_axis_environment_value=0.8\n",
      "metacommunity: patch60, (5, 9), h0, (10, 18): x_axis_environment_value=0.5, y_axis_environment_value=0.9\n",
      "metacommunity: patch60, (5, 9), h1, (10, 19): x_axis_environment_value=0.5, y_axis_environment_value=0.9\n",
      "metacommunity: patch60, (5, 9), h2, (11, 18): x_axis_environment_value=0.5, y_axis_environment_value=0.9\n",
      "metacommunity: patch60, (5, 9), h3, (11, 19): x_axis_environment_value=0.5, y_axis_environment_value=0.9\n",
      "metacommunity: patch61, (6, 0), h0, (12, 0): x_axis_environment_value=0.6, y_axis_environment_value=0.0\n",
      "metacommunity: patch61, (6, 0), h1, (12, 1): x_axis_environment_value=0.6, y_axis_environment_value=0.0\n",
      "metacommunity: patch61, (6, 0), h2, (13, 0): x_axis_environment_value=0.6, y_axis_environment_value=0.0\n",
      "metacommunity: patch61, (6, 0), h3, (13, 1): x_axis_environment_value=0.6, y_axis_environment_value=0.0\n",
      "metacommunity: patch62, (6, 1), h0, (12, 2): x_axis_environment_value=0.6, y_axis_environment_value=0.1\n",
      "metacommunity: patch62, (6, 1), h1, (12, 3): x_axis_environment_value=0.6, y_axis_environment_value=0.1\n",
      "metacommunity: patch62, (6, 1), h2, (13, 2): x_axis_environment_value=0.6, y_axis_environment_value=0.1\n",
      "metacommunity: patch62, (6, 1), h3, (13, 3): x_axis_environment_value=0.6, y_axis_environment_value=0.1\n",
      "metacommunity: patch63, (6, 2), h0, (12, 4): x_axis_environment_value=0.6, y_axis_environment_value=0.2\n",
      "metacommunity: patch63, (6, 2), h1, (12, 5): x_axis_environment_value=0.6, y_axis_environment_value=0.2\n",
      "metacommunity: patch63, (6, 2), h2, (13, 4): x_axis_environment_value=0.6, y_axis_environment_value=0.2\n",
      "metacommunity: patch63, (6, 2), h3, (13, 5): x_axis_environment_value=0.6, y_axis_environment_value=0.2\n",
      "metacommunity: patch64, (6, 3), h0, (12, 6): x_axis_environment_value=0.6, y_axis_environment_value=0.3\n",
      "metacommunity: patch64, (6, 3), h1, (12, 7): x_axis_environment_value=0.6, y_axis_environment_value=0.3\n",
      "metacommunity: patch64, (6, 3), h2, (13, 6): x_axis_environment_value=0.6, y_axis_environment_value=0.3\n",
      "metacommunity: patch64, (6, 3), h3, (13, 7): x_axis_environment_value=0.6, y_axis_environment_value=0.3\n",
      "metacommunity: patch65, (6, 4), h0, (12, 8): x_axis_environment_value=0.6, y_axis_environment_value=0.4\n",
      "metacommunity: patch65, (6, 4), h1, (12, 9): x_axis_environment_value=0.6, y_axis_environment_value=0.4\n",
      "metacommunity: patch65, (6, 4), h2, (13, 8): x_axis_environment_value=0.6, y_axis_environment_value=0.4\n",
      "metacommunity: patch65, (6, 4), h3, (13, 9): x_axis_environment_value=0.6, y_axis_environment_value=0.4\n",
      "metacommunity: patch66, (6, 5), h0, (12, 10): x_axis_environment_value=0.6, y_axis_environment_value=0.5\n",
      "metacommunity: patch66, (6, 5), h1, (12, 11): x_axis_environment_value=0.6, y_axis_environment_value=0.5\n",
      "metacommunity: patch66, (6, 5), h2, (13, 10): x_axis_environment_value=0.6, y_axis_environment_value=0.5\n",
      "metacommunity: patch66, (6, 5), h3, (13, 11): x_axis_environment_value=0.6, y_axis_environment_value=0.5\n",
      "metacommunity: patch67, (6, 6), h0, (12, 12): x_axis_environment_value=0.6, y_axis_environment_value=0.6\n",
      "metacommunity: patch67, (6, 6), h1, (12, 13): x_axis_environment_value=0.6, y_axis_environment_value=0.6\n",
      "metacommunity: patch67, (6, 6), h2, (13, 12): x_axis_environment_value=0.6, y_axis_environment_value=0.6\n",
      "metacommunity: patch67, (6, 6), h3, (13, 13): x_axis_environment_value=0.6, y_axis_environment_value=0.6\n",
      "metacommunity: patch68, (6, 7), h0, (12, 14): x_axis_environment_value=0.6, y_axis_environment_value=0.7\n",
      "metacommunity: patch68, (6, 7), h1, (12, 15): x_axis_environment_value=0.6, y_axis_environment_value=0.7\n",
      "metacommunity: patch68, (6, 7), h2, (13, 14): x_axis_environment_value=0.6, y_axis_environment_value=0.7\n",
      "metacommunity: patch68, (6, 7), h3, (13, 15): x_axis_environment_value=0.6, y_axis_environment_value=0.7\n",
      "metacommunity: patch69, (6, 8), h0, (12, 16): x_axis_environment_value=0.6, y_axis_environment_value=0.8\n",
      "metacommunity: patch69, (6, 8), h1, (12, 17): x_axis_environment_value=0.6, y_axis_environment_value=0.8\n",
      "metacommunity: patch69, (6, 8), h2, (13, 16): x_axis_environment_value=0.6, y_axis_environment_value=0.8\n",
      "metacommunity: patch69, (6, 8), h3, (13, 17): x_axis_environment_value=0.6, y_axis_environment_value=0.8\n",
      "metacommunity: patch70, (6, 9), h0, (12, 18): x_axis_environment_value=0.6, y_axis_environment_value=0.9\n",
      "metacommunity: patch70, (6, 9), h1, (12, 19): x_axis_environment_value=0.6, y_axis_environment_value=0.9\n",
      "metacommunity: patch70, (6, 9), h2, (13, 18): x_axis_environment_value=0.6, y_axis_environment_value=0.9\n",
      "metacommunity: patch70, (6, 9), h3, (13, 19): x_axis_environment_value=0.6, y_axis_environment_value=0.9\n",
      "metacommunity: patch71, (7, 0), h0, (14, 0): x_axis_environment_value=0.7, y_axis_environment_value=0.0\n",
      "metacommunity: patch71, (7, 0), h1, (14, 1): x_axis_environment_value=0.7, y_axis_environment_value=0.0\n",
      "metacommunity: patch71, (7, 0), h2, (15, 0): x_axis_environment_value=0.7, y_axis_environment_value=0.0\n",
      "metacommunity: patch71, (7, 0), h3, (15, 1): x_axis_environment_value=0.7, y_axis_environment_value=0.0\n",
      "metacommunity: patch72, (7, 1), h0, (14, 2): x_axis_environment_value=0.7, y_axis_environment_value=0.1\n",
      "metacommunity: patch72, (7, 1), h1, (14, 3): x_axis_environment_value=0.7, y_axis_environment_value=0.1\n",
      "metacommunity: patch72, (7, 1), h2, (15, 2): x_axis_environment_value=0.7, y_axis_environment_value=0.1\n",
      "metacommunity: patch72, (7, 1), h3, (15, 3): x_axis_environment_value=0.7, y_axis_environment_value=0.1\n",
      "metacommunity: patch73, (7, 2), h0, (14, 4): x_axis_environment_value=0.7, y_axis_environment_value=0.2\n",
      "metacommunity: patch73, (7, 2), h1, (14, 5): x_axis_environment_value=0.7, y_axis_environment_value=0.2\n",
      "metacommunity: patch73, (7, 2), h2, (15, 4): x_axis_environment_value=0.7, y_axis_environment_value=0.2\n",
      "metacommunity: patch73, (7, 2), h3, (15, 5): x_axis_environment_value=0.7, y_axis_environment_value=0.2\n",
      "metacommunity: patch74, (7, 3), h0, (14, 6): x_axis_environment_value=0.7, y_axis_environment_value=0.3\n",
      "metacommunity: patch74, (7, 3), h1, (14, 7): x_axis_environment_value=0.7, y_axis_environment_value=0.3\n",
      "metacommunity: patch74, (7, 3), h2, (15, 6): x_axis_environment_value=0.7, y_axis_environment_value=0.3\n",
      "metacommunity: patch74, (7, 3), h3, (15, 7): x_axis_environment_value=0.7, y_axis_environment_value=0.3\n",
      "metacommunity: patch75, (7, 4), h0, (14, 8): x_axis_environment_value=0.7, y_axis_environment_value=0.4\n",
      "metacommunity: patch75, (7, 4), h1, (14, 9): x_axis_environment_value=0.7, y_axis_environment_value=0.4\n",
      "metacommunity: patch75, (7, 4), h2, (15, 8): x_axis_environment_value=0.7, y_axis_environment_value=0.4\n",
      "metacommunity: patch75, (7, 4), h3, (15, 9): x_axis_environment_value=0.7, y_axis_environment_value=0.4\n",
      "metacommunity: patch76, (7, 5), h0, (14, 10): x_axis_environment_value=0.7, y_axis_environment_value=0.5\n",
      "metacommunity: patch76, (7, 5), h1, (14, 11): x_axis_environment_value=0.7, y_axis_environment_value=0.5\n",
      "metacommunity: patch76, (7, 5), h2, (15, 10): x_axis_environment_value=0.7, y_axis_environment_value=0.5\n",
      "metacommunity: patch76, (7, 5), h3, (15, 11): x_axis_environment_value=0.7, y_axis_environment_value=0.5\n",
      "metacommunity: patch77, (7, 6), h0, (14, 12): x_axis_environment_value=0.7, y_axis_environment_value=0.6\n",
      "metacommunity: patch77, (7, 6), h1, (14, 13): x_axis_environment_value=0.7, y_axis_environment_value=0.6\n",
      "metacommunity: patch77, (7, 6), h2, (15, 12): x_axis_environment_value=0.7, y_axis_environment_value=0.6\n",
      "metacommunity: patch77, (7, 6), h3, (15, 13): x_axis_environment_value=0.7, y_axis_environment_value=0.6\n",
      "metacommunity: patch78, (7, 7), h0, (14, 14): x_axis_environment_value=0.7, y_axis_environment_value=0.7\n",
      "metacommunity: patch78, (7, 7), h1, (14, 15): x_axis_environment_value=0.7, y_axis_environment_value=0.7\n",
      "metacommunity: patch78, (7, 7), h2, (15, 14): x_axis_environment_value=0.7, y_axis_environment_value=0.7\n",
      "metacommunity: patch78, (7, 7), h3, (15, 15): x_axis_environment_value=0.7, y_axis_environment_value=0.7\n",
      "metacommunity: patch79, (7, 8), h0, (14, 16): x_axis_environment_value=0.7, y_axis_environment_value=0.8\n",
      "metacommunity: patch79, (7, 8), h1, (14, 17): x_axis_environment_value=0.7, y_axis_environment_value=0.8\n",
      "metacommunity: patch79, (7, 8), h2, (15, 16): x_axis_environment_value=0.7, y_axis_environment_value=0.8\n",
      "metacommunity: patch79, (7, 8), h3, (15, 17): x_axis_environment_value=0.7, y_axis_environment_value=0.8\n",
      "metacommunity: patch80, (7, 9), h0, (14, 18): x_axis_environment_value=0.7, y_axis_environment_value=0.9\n",
      "metacommunity: patch80, (7, 9), h1, (14, 19): x_axis_environment_value=0.7, y_axis_environment_value=0.9\n",
      "metacommunity: patch80, (7, 9), h2, (15, 18): x_axis_environment_value=0.7, y_axis_environment_value=0.9\n",
      "metacommunity: patch80, (7, 9), h3, (15, 19): x_axis_environment_value=0.7, y_axis_environment_value=0.9\n",
      "metacommunity: patch81, (8, 0), h0, (16, 0): x_axis_environment_value=0.8, y_axis_environment_value=0.0\n",
      "metacommunity: patch81, (8, 0), h1, (16, 1): x_axis_environment_value=0.8, y_axis_environment_value=0.0\n",
      "metacommunity: patch81, (8, 0), h2, (17, 0): x_axis_environment_value=0.8, y_axis_environment_value=0.0\n",
      "metacommunity: patch81, (8, 0), h3, (17, 1): x_axis_environment_value=0.8, y_axis_environment_value=0.0\n",
      "metacommunity: patch82, (8, 1), h0, (16, 2): x_axis_environment_value=0.8, y_axis_environment_value=0.1\n",
      "metacommunity: patch82, (8, 1), h1, (16, 3): x_axis_environment_value=0.8, y_axis_environment_value=0.1\n",
      "metacommunity: patch82, (8, 1), h2, (17, 2): x_axis_environment_value=0.8, y_axis_environment_value=0.1\n",
      "metacommunity: patch82, (8, 1), h3, (17, 3): x_axis_environment_value=0.8, y_axis_environment_value=0.1\n",
      "metacommunity: patch83, (8, 2), h0, (16, 4): x_axis_environment_value=0.8, y_axis_environment_value=0.2\n",
      "metacommunity: patch83, (8, 2), h1, (16, 5): x_axis_environment_value=0.8, y_axis_environment_value=0.2\n",
      "metacommunity: patch83, (8, 2), h2, (17, 4): x_axis_environment_value=0.8, y_axis_environment_value=0.2\n",
      "metacommunity: patch83, (8, 2), h3, (17, 5): x_axis_environment_value=0.8, y_axis_environment_value=0.2\n",
      "metacommunity: patch84, (8, 3), h0, (16, 6): x_axis_environment_value=0.8, y_axis_environment_value=0.3\n",
      "metacommunity: patch84, (8, 3), h1, (16, 7): x_axis_environment_value=0.8, y_axis_environment_value=0.3\n",
      "metacommunity: patch84, (8, 3), h2, (17, 6): x_axis_environment_value=0.8, y_axis_environment_value=0.3\n",
      "metacommunity: patch84, (8, 3), h3, (17, 7): x_axis_environment_value=0.8, y_axis_environment_value=0.3\n",
      "metacommunity: patch85, (8, 4), h0, (16, 8): x_axis_environment_value=0.8, y_axis_environment_value=0.4\n",
      "metacommunity: patch85, (8, 4), h1, (16, 9): x_axis_environment_value=0.8, y_axis_environment_value=0.4\n",
      "metacommunity: patch85, (8, 4), h2, (17, 8): x_axis_environment_value=0.8, y_axis_environment_value=0.4\n",
      "metacommunity: patch85, (8, 4), h3, (17, 9): x_axis_environment_value=0.8, y_axis_environment_value=0.4\n",
      "metacommunity: patch86, (8, 5), h0, (16, 10): x_axis_environment_value=0.8, y_axis_environment_value=0.5\n",
      "metacommunity: patch86, (8, 5), h1, (16, 11): x_axis_environment_value=0.8, y_axis_environment_value=0.5\n",
      "metacommunity: patch86, (8, 5), h2, (17, 10): x_axis_environment_value=0.8, y_axis_environment_value=0.5\n",
      "metacommunity: patch86, (8, 5), h3, (17, 11): x_axis_environment_value=0.8, y_axis_environment_value=0.5\n",
      "metacommunity: patch87, (8, 6), h0, (16, 12): x_axis_environment_value=0.8, y_axis_environment_value=0.6\n",
      "metacommunity: patch87, (8, 6), h1, (16, 13): x_axis_environment_value=0.8, y_axis_environment_value=0.6\n",
      "metacommunity: patch87, (8, 6), h2, (17, 12): x_axis_environment_value=0.8, y_axis_environment_value=0.6\n",
      "metacommunity: patch87, (8, 6), h3, (17, 13): x_axis_environment_value=0.8, y_axis_environment_value=0.6\n",
      "metacommunity: patch88, (8, 7), h0, (16, 14): x_axis_environment_value=0.8, y_axis_environment_value=0.7\n",
      "metacommunity: patch88, (8, 7), h1, (16, 15): x_axis_environment_value=0.8, y_axis_environment_value=0.7\n",
      "metacommunity: patch88, (8, 7), h2, (17, 14): x_axis_environment_value=0.8, y_axis_environment_value=0.7\n",
      "metacommunity: patch88, (8, 7), h3, (17, 15): x_axis_environment_value=0.8, y_axis_environment_value=0.7\n",
      "metacommunity: patch89, (8, 8), h0, (16, 16): x_axis_environment_value=0.8, y_axis_environment_value=0.8\n",
      "metacommunity: patch89, (8, 8), h1, (16, 17): x_axis_environment_value=0.8, y_axis_environment_value=0.8\n",
      "metacommunity: patch89, (8, 8), h2, (17, 16): x_axis_environment_value=0.8, y_axis_environment_value=0.8\n",
      "metacommunity: patch89, (8, 8), h3, (17, 17): x_axis_environment_value=0.8, y_axis_environment_value=0.8\n",
      "metacommunity: patch90, (8, 9), h0, (16, 18): x_axis_environment_value=0.8, y_axis_environment_value=0.9\n",
      "metacommunity: patch90, (8, 9), h1, (16, 19): x_axis_environment_value=0.8, y_axis_environment_value=0.9\n",
      "metacommunity: patch90, (8, 9), h2, (17, 18): x_axis_environment_value=0.8, y_axis_environment_value=0.9\n",
      "metacommunity: patch90, (8, 9), h3, (17, 19): x_axis_environment_value=0.8, y_axis_environment_value=0.9\n",
      "metacommunity: patch91, (9, 0), h0, (18, 0): x_axis_environment_value=0.9, y_axis_environment_value=0.0\n",
      "metacommunity: patch91, (9, 0), h1, (18, 1): x_axis_environment_value=0.9, y_axis_environment_value=0.0\n",
      "metacommunity: patch91, (9, 0), h2, (19, 0): x_axis_environment_value=0.9, y_axis_environment_value=0.0\n",
      "metacommunity: patch91, (9, 0), h3, (19, 1): x_axis_environment_value=0.9, y_axis_environment_value=0.0\n",
      "metacommunity: patch92, (9, 1), h0, (18, 2): x_axis_environment_value=0.9, y_axis_environment_value=0.1\n",
      "metacommunity: patch92, (9, 1), h1, (18, 3): x_axis_environment_value=0.9, y_axis_environment_value=0.1\n",
      "metacommunity: patch92, (9, 1), h2, (19, 2): x_axis_environment_value=0.9, y_axis_environment_value=0.1\n",
      "metacommunity: patch92, (9, 1), h3, (19, 3): x_axis_environment_value=0.9, y_axis_environment_value=0.1\n",
      "metacommunity: patch93, (9, 2), h0, (18, 4): x_axis_environment_value=0.9, y_axis_environment_value=0.2\n",
      "metacommunity: patch93, (9, 2), h1, (18, 5): x_axis_environment_value=0.9, y_axis_environment_value=0.2\n",
      "metacommunity: patch93, (9, 2), h2, (19, 4): x_axis_environment_value=0.9, y_axis_environment_value=0.2\n",
      "metacommunity: patch93, (9, 2), h3, (19, 5): x_axis_environment_value=0.9, y_axis_environment_value=0.2\n",
      "metacommunity: patch94, (9, 3), h0, (18, 6): x_axis_environment_value=0.9, y_axis_environment_value=0.3\n",
      "metacommunity: patch94, (9, 3), h1, (18, 7): x_axis_environment_value=0.9, y_axis_environment_value=0.3\n",
      "metacommunity: patch94, (9, 3), h2, (19, 6): x_axis_environment_value=0.9, y_axis_environment_value=0.3\n",
      "metacommunity: patch94, (9, 3), h3, (19, 7): x_axis_environment_value=0.9, y_axis_environment_value=0.3\n",
      "metacommunity: patch95, (9, 4), h0, (18, 8): x_axis_environment_value=0.9, y_axis_environment_value=0.4\n",
      "metacommunity: patch95, (9, 4), h1, (18, 9): x_axis_environment_value=0.9, y_axis_environment_value=0.4\n",
      "metacommunity: patch95, (9, 4), h2, (19, 8): x_axis_environment_value=0.9, y_axis_environment_value=0.4\n",
      "metacommunity: patch95, (9, 4), h3, (19, 9): x_axis_environment_value=0.9, y_axis_environment_value=0.4\n",
      "metacommunity: patch96, (9, 5), h0, (18, 10): x_axis_environment_value=0.9, y_axis_environment_value=0.5\n",
      "metacommunity: patch96, (9, 5), h1, (18, 11): x_axis_environment_value=0.9, y_axis_environment_value=0.5\n",
      "metacommunity: patch96, (9, 5), h2, (19, 10): x_axis_environment_value=0.9, y_axis_environment_value=0.5\n",
      "metacommunity: patch96, (9, 5), h3, (19, 11): x_axis_environment_value=0.9, y_axis_environment_value=0.5\n",
      "metacommunity: patch97, (9, 6), h0, (18, 12): x_axis_environment_value=0.9, y_axis_environment_value=0.6\n",
      "metacommunity: patch97, (9, 6), h1, (18, 13): x_axis_environment_value=0.9, y_axis_environment_value=0.6\n",
      "metacommunity: patch97, (9, 6), h2, (19, 12): x_axis_environment_value=0.9, y_axis_environment_value=0.6\n",
      "metacommunity: patch97, (9, 6), h3, (19, 13): x_axis_environment_value=0.9, y_axis_environment_value=0.6\n",
      "metacommunity: patch98, (9, 7), h0, (18, 14): x_axis_environment_value=0.9, y_axis_environment_value=0.7\n",
      "metacommunity: patch98, (9, 7), h1, (18, 15): x_axis_environment_value=0.9, y_axis_environment_value=0.7\n",
      "metacommunity: patch98, (9, 7), h2, (19, 14): x_axis_environment_value=0.9, y_axis_environment_value=0.7\n",
      "metacommunity: patch98, (9, 7), h3, (19, 15): x_axis_environment_value=0.9, y_axis_environment_value=0.7\n",
      "metacommunity: patch99, (9, 8), h0, (18, 16): x_axis_environment_value=0.9, y_axis_environment_value=0.8\n",
      "metacommunity: patch99, (9, 8), h1, (18, 17): x_axis_environment_value=0.9, y_axis_environment_value=0.8\n",
      "metacommunity: patch99, (9, 8), h2, (19, 16): x_axis_environment_value=0.9, y_axis_environment_value=0.8\n",
      "metacommunity: patch99, (9, 8), h3, (19, 17): x_axis_environment_value=0.9, y_axis_environment_value=0.8\n",
      "metacommunity: patch100, (9, 9), h0, (18, 18): x_axis_environment_value=0.9, y_axis_environment_value=0.9\n",
      "metacommunity: patch100, (9, 9), h1, (18, 19): x_axis_environment_value=0.9, y_axis_environment_value=0.9\n",
      "metacommunity: patch100, (9, 9), h2, (19, 18): x_axis_environment_value=0.9, y_axis_environment_value=0.9\n",
      "metacommunity: patch100, (9, 9), h3, (19, 19): x_axis_environment_value=0.9, y_axis_environment_value=0.9\n",
      "\n"
     ]
    }
   ],
   "source": [
    "print(log_info)"
   ]
  },
  {
   "cell_type": "markdown",
   "id": "2d46e19b",
   "metadata": {},
   "source": [
    "In the information for logging, each line records the generation of a habitat in the metacommunity including the information of patch_id, patch_coordinate, habitat_id, habitat_coordinate, the environmental values of the habitat."
   ]
  },
  {
   "cell_type": "markdown",
   "id": "9abb4c17",
   "metadata": {},
   "source": [
    "Next, we try to show the environmental gradients of the metacommunity landscape."
   ]
  },
  {
   "cell_type": "code",
   "execution_count": 39,
   "id": "cc2434fb",
   "metadata": {},
   "outputs": [
    {
     "data": {
      "text/plain": [
       "0"
      ]
     },
     "execution_count": 39,
     "metadata": {},
     "output_type": "execute_result"
    },
    {
     "data": {
      "text/plain": [
       "<Figure size 4000x4000 with 0 Axes>"
      ]
     },
     "metadata": {},
     "output_type": "display_data"
    }
   ],
   "source": [
    "meta_obj.meta_show_environment_distribution(environment_name='x_axis_environment', sub_row=10, sub_col=10, hab_num_x_axis_in_patch=2, hab_num_y_axis_in_patch=2, hab_y_len=16, hab_x_len=16, mask_loc=None, cmap=plt.get_cmap('Blues'), file_name='metacommunity_x_axis_environment.jpg')"
   ]
  },
  {
   "cell_type": "markdown",
   "id": "4cf91e94",
   "metadata": {},
   "source": [
    "Then, 'metacommunity_x_axis_environment.jpg' is plotted in the folder."
   ]
  },
  {
   "cell_type": "code",
   "execution_count": 40,
   "id": "305f973e",
   "metadata": {},
   "outputs": [
    {
     "data": {
      "text/plain": [
       "0"
      ]
     },
     "execution_count": 40,
     "metadata": {},
     "output_type": "execute_result"
    },
    {
     "data": {
      "text/plain": [
       "<Figure size 4000x4000 with 0 Axes>"
      ]
     },
     "metadata": {},
     "output_type": "display_data"
    }
   ],
   "source": [
    "meta_obj.meta_show_environment_distribution(environment_name='y_axis_environment', sub_row=10, sub_col=10, hab_num_x_axis_in_patch=2, hab_num_y_axis_in_patch=2, hab_y_len=16, hab_x_len=16, mask_loc=None, cmap=plt.get_cmap('Greens'), file_name='metacommunity_y_axis_environment.jpg')"
   ]
  },
  {
   "cell_type": "markdown",
   "id": "f30a07c2",
   "metadata": {},
   "source": [
    "Then, 'metacommunity_y_axis_environment.jpg' is plotted in the folder."
   ]
  },
  {
   "cell_type": "markdown",
   "id": "1716b9c3",
   "metadata": {},
   "source": [
    "At the start of the simulation, we defined time-step=0 and for now the metacommunity is empty."
   ]
  },
  {
   "cell_type": "code",
   "execution_count": 41,
   "id": "0c8ebbf9",
   "metadata": {},
   "outputs": [],
   "source": [
    "time_step = 0"
   ]
  },
  {
   "cell_type": "code",
   "execution_count": 42,
   "id": "13d247c4",
   "metadata": {},
   "outputs": [
    {
     "data": {
      "text/plain": [
       "0"
      ]
     },
     "execution_count": 42,
     "metadata": {},
     "output_type": "execute_result"
    },
    {
     "data": {
      "text/plain": [
       "<Figure size 4000x4000 with 0 Axes>"
      ]
     },
     "metadata": {},
     "output_type": "display_data"
    }
   ],
   "source": [
    "meta_obj.meta_show_species_distribution(sub_row=10, sub_col=10, hab_num_x_axis_in_patch=2, hab_num_y_axis_in_patch=2, hab_y_len=16, hab_x_len=16, vmin=1, vmax=100, cmap=plt.get_cmap('gist_rainbow'), file_name='time_step=%d-metacommunity_sp_dis.jpg'%(time_step))"
   ]
  },
  {
   "cell_type": "markdown",
   "id": "7ca5b092",
   "metadata": {},
   "source": [
    "Then, 'time_step=0-metacommunity_sp_dis.jpg' is plotted in the folder. As you can see the metacommunity is empty"
   ]
  },
  {
   "cell_type": "markdown",
   "id": "ac5a2c27",
   "metadata": {},
   "source": [
    "In the mainland, we simulate a nutural selection process."
   ]
  },
  {
   "cell_type": "code",
   "execution_count": 43,
   "id": "71b8be84",
   "metadata": {},
   "outputs": [],
   "source": [
    "log_info = mainland.meta_dead_selection(base_dead_rate=0.1, fitness_wid=0.5, method='niche_gaussian')"
   ]
  },
  {
   "cell_type": "code",
   "execution_count": 44,
   "id": "48e38fe2",
   "metadata": {},
   "outputs": [
    {
     "name": "stdout",
     "output_type": "stream",
     "text": [
      "[Dead selection] in mainland: there are 4332 individuals dead in selection; there are 35668 individuals in the mainland; there are 4332 empty sites in the mainland \n",
      "\n"
     ]
    }
   ],
   "source": [
    "print(log_info)"
   ]
  },
  {
   "cell_type": "code",
   "execution_count": 45,
   "id": "695d6c9a",
   "metadata": {},
   "outputs": [
    {
     "data": {
      "text/plain": [
       "0"
      ]
     },
     "execution_count": 45,
     "metadata": {},
     "output_type": "execute_result"
    },
    {
     "data": {
      "text/plain": [
       "<Figure size 4000x4000 with 0 Axes>"
      ]
     },
     "metadata": {},
     "output_type": "display_data"
    }
   ],
   "source": [
    "mainland.meta_show_species_distribution(sub_row=1, sub_col=1, hab_num_x_axis_in_patch=10, hab_num_y_axis_in_patch=10, hab_y_len=20, hab_x_len=20, vmin=1, vmax=100, cmap=plt.get_cmap('gist_rainbow'), file_name='mainland_sp_dis_after_natural_selection.jpg')"
   ]
  },
  {
   "cell_type": "markdown",
   "id": "9fc0cc0d",
   "metadata": {},
   "source": [
    "Then, 'mainland_sp_dis_after_natural_selection.jpg' is plotted in the folder. Atfer natural selection, we can find some empty microsites in the mainland."
   ]
  },
  {
   "cell_type": "markdown",
   "id": "0fd04143",
   "metadata": {},
   "source": [
    "Next, in the mainland, we simulate a reproduction and germination process."
   ]
  },
  {
   "cell_type": "code",
   "execution_count": 46,
   "id": "1528c4f2",
   "metadata": {},
   "outputs": [],
   "source": [
    "log_info = mainland.meta_mainland_asexual_birth_mutate_germinate(asexual_birth_rate=0.5, mutation_rate=0, pheno_var_ls=(0.025, 0.025))"
   ]
  },
  {
   "cell_type": "code",
   "execution_count": 47,
   "id": "f22becb9",
   "metadata": {},
   "outputs": [
    {
     "name": "stdout",
     "output_type": "stream",
     "text": [
      "[Birth process] in mainland: there are 4332 individuals germinating from local habitat; there are 40000 individuals in the mainland; there are 0 empty sites in the mainland \n",
      "\n"
     ]
    }
   ],
   "source": [
    "print(log_info)"
   ]
  },
  {
   "cell_type": "code",
   "execution_count": 48,
   "id": "d6a08297",
   "metadata": {},
   "outputs": [
    {
     "data": {
      "text/plain": [
       "0"
      ]
     },
     "execution_count": 48,
     "metadata": {},
     "output_type": "execute_result"
    },
    {
     "data": {
      "text/plain": [
       "<Figure size 4000x4000 with 0 Axes>"
      ]
     },
     "metadata": {},
     "output_type": "display_data"
    }
   ],
   "source": [
    "mainland.meta_show_species_distribution(sub_row=1, sub_col=1, hab_num_x_axis_in_patch=10, hab_num_y_axis_in_patch=10, hab_y_len=20, hab_x_len=20, vmin=1, vmax=100, cmap=plt.get_cmap('gist_rainbow'), file_name='mainland_sp_dis_after_reproduction_and_germination.jpg')"
   ]
  },
  {
   "cell_type": "markdown",
   "id": "32a0b2db",
   "metadata": {},
   "source": [
    "Then, 'mainland_sp_dis_after_reproduction_and_germination.jpg' is plotted in the folder. Atfer the reproduction and germination, the empty microsites in the mainland are reoccupied."
   ]
  },
  {
   "cell_type": "markdown",
   "id": "de30ddee",
   "metadata": {},
   "source": [
    "Next, we try to simulate the community assembly from the mainland that functions as a species pool to the initially empty metacommunity."
   ]
  },
  {
   "cell_type": "markdown",
   "id": "93364567",
   "metadata": {},
   "source": [
    "We conduct the colonization process from mainland to metacommunity."
   ]
  },
  {
   "cell_type": "code",
   "execution_count": 49,
   "id": "2e7f4c11",
   "metadata": {},
   "outputs": [],
   "source": [
    "log_info = meta_obj.meta_colonize_from_propagules_rains(mainland_obj=mainland, propagules_rain_num=40)"
   ]
  },
  {
   "cell_type": "code",
   "execution_count": 50,
   "id": "3bec1bd7",
   "metadata": {},
   "outputs": [
    {
     "name": "stdout",
     "output_type": "stream",
     "text": [
      "[Colonization process]: there are 40 individuals colonizing the metacommunity from mainland; there are 40 individuals in the metacommunity; there are 102360 empty sites in the metacommunity \n",
      "\n"
     ]
    }
   ],
   "source": [
    "print(log_info)"
   ]
  },
  {
   "cell_type": "markdown",
   "id": "e8a673e2",
   "metadata": {},
   "source": [
    "As it is shown in the information for logging, 40 individuals colonized from the mainland to the metacommunity. "
   ]
  },
  {
   "cell_type": "code",
   "execution_count": 51,
   "id": "5e3ff423",
   "metadata": {},
   "outputs": [
    {
     "data": {
      "text/plain": [
       "0"
      ]
     },
     "execution_count": 51,
     "metadata": {},
     "output_type": "execute_result"
    },
    {
     "data": {
      "text/plain": [
       "<Figure size 4000x4000 with 0 Axes>"
      ]
     },
     "metadata": {},
     "output_type": "display_data"
    }
   ],
   "source": [
    "meta_obj.meta_show_species_distribution(sub_row=10, sub_col=10, hab_num_x_axis_in_patch=2, hab_num_y_axis_in_patch=2, hab_y_len=16, hab_x_len=16, vmin=1, vmax=100, cmap=plt.get_cmap('gist_rainbow'), file_name='time_step=%d-metacommunity_sp_dis_after_colonization.jpg'%(time_step))"
   ]
  },
  {
   "cell_type": "markdown",
   "id": "a8d1dcbb",
   "metadata": {},
   "source": [
    "Then, 'time_step=0-metacommunity_sp_dis_after_colonization.jpg' is plotted in the folder. We can find that 40 microsites in the metacommunity is occupied and each species is represented by one color."
   ]
  },
  {
   "cell_type": "markdown",
   "id": "14fc4bd5",
   "metadata": {},
   "source": [
    "Next, we will simulate the reproduction process in the metacommunity."
   ]
  },
  {
   "cell_type": "code",
   "execution_count": 52,
   "id": "751d889f",
   "metadata": {},
   "outputs": [],
   "source": [
    "log_info = meta_obj.meta_asex_reproduce_calculation_into_offspring_marker_pool(asexual_birth_rate=0.5)"
   ]
  },
  {
   "cell_type": "code",
   "execution_count": 53,
   "id": "5939ffab",
   "metadata": {},
   "outputs": [
    {
     "name": "stdout",
     "output_type": "stream",
     "text": [
      "[Reproduction into offspring_marker_pool] in metacommunity: there are 22 offspring_marker born into the offspring_marker_pool; there are 22 offspring_marker in the offspring_marker_pool \n",
      "\n"
     ]
    }
   ],
   "source": [
    "print(log_info)"
   ]
  },
  {
   "cell_type": "markdown",
   "id": "d611f742",
   "metadata": {},
   "source": [
    "As shown in the logging information, 16 offspring propagules are born but they are not germinated yet."
   ]
  },
  {
   "cell_type": "markdown",
   "id": "19e32ef9",
   "metadata": {},
   "source": [
    "Next, we will simulate the dispersal within patch process."
   ]
  },
  {
   "cell_type": "code",
   "execution_count": 54,
   "id": "fcc4aa16",
   "metadata": {},
   "outputs": [],
   "source": [
    "log_info = meta_obj.meta_dispersal_within_patch_from_offspring_marker_to_immigrant_marker_pool(disp_within_rate=0.1)"
   ]
  },
  {
   "cell_type": "code",
   "execution_count": 55,
   "id": "98623701",
   "metadata": {},
   "outputs": [
    {
     "name": "stdout",
     "output_type": "stream",
     "text": [
      "[Dispersal within process] in metacommunity: there are 1 offspring marker disperse into habs_immigrant_marker_pool within patches; there are 1 offspring marker in the immigrant marker pool in the metacommunity \n",
      "\n"
     ]
    }
   ],
   "source": [
    "print(log_info)"
   ]
  },
  {
   "cell_type": "markdown",
   "id": "94664cca",
   "metadata": {},
   "source": [
    "As shown in the logging information, 1 offspring propagule disperse within a patch but the propagules have not germinated yet."
   ]
  },
  {
   "cell_type": "markdown",
   "id": "82a774a5",
   "metadata": {},
   "source": [
    "Next, we will simulate the dispersal among patch process."
   ]
  },
  {
   "cell_type": "code",
   "execution_count": 56,
   "id": "54a5eea0",
   "metadata": {},
   "outputs": [],
   "source": [
    "log_info = meta_obj.dispersal_aomng_patches_from_offspring_marker_pool_to_immigrant_marker_pool(total_disp_among_rate=0.01)"
   ]
  },
  {
   "cell_type": "code",
   "execution_count": 57,
   "id": "123f8e5f",
   "metadata": {},
   "outputs": [
    {
     "name": "stdout",
     "output_type": "stream",
     "text": [
      "[Dispersal among patches] in metacommunity: there are 1 individuals disperse into habs_immigrant_marker_pool among patches; there are 2 individuals in the immigrant_marker_pools in the metacommunity \n",
      "\n"
     ]
    }
   ],
   "source": [
    "print(log_info)"
   ]
  },
  {
   "cell_type": "markdown",
   "id": "fbd224ef",
   "metadata": {},
   "source": [
    "As shown in the logging information, 0 offspring propagule disperse within a patch beacuse of the low dispersal rate (0.01) and only 16 offspring propagules in the metacommunity.\n",
    "\n",
    "But as the simulation go on repeatly, as more and more individuals occupy the microsites in the metacommunity, more and more indiviudals can disperse among patches with more offspring propagules are born at each time-step."
   ]
  },
  {
   "cell_type": "markdown",
   "id": "00074c84",
   "metadata": {},
   "source": [
    "Next, we simulate the germination process."
   ]
  },
  {
   "cell_type": "code",
   "execution_count": 58,
   "id": "6176e4d7",
   "metadata": {},
   "outputs": [],
   "source": [
    "log_info = meta_obj.meta_local_germinate_and_birth_from_offspring_marker_and_immigrant_marker_pool(mutation_rate=0, pheno_var_ls=(0.025, 0.025))"
   ]
  },
  {
   "cell_type": "code",
   "execution_count": 59,
   "id": "49bcc393",
   "metadata": {},
   "outputs": [
    {
     "name": "stdout",
     "output_type": "stream",
     "text": [
      "[Germination & Birth process] metacommunity: there are 24 individuals germinating_and_birth from local offspring_marker_pool and immigrant_marker_pool in the local habitat; there are 64 individuals in the metacommunity; there are 102336 empty sites in the metacommunity \n",
      "\n"
     ]
    }
   ],
   "source": [
    "print(log_info)"
   ]
  },
  {
   "cell_type": "markdown",
   "id": "571453ea",
   "metadata": {},
   "source": [
    "In the germination process, the immgrants propagules in the dispersal process and the local propagules born in the reproduction process compete the empty microsites of each habitat with the same probability."
   ]
  },
  {
   "cell_type": "code",
   "execution_count": 60,
   "id": "c1328d4f",
   "metadata": {},
   "outputs": [
    {
     "data": {
      "text/plain": [
       "0"
      ]
     },
     "execution_count": 60,
     "metadata": {},
     "output_type": "execute_result"
    },
    {
     "data": {
      "text/plain": [
       "<Figure size 4000x4000 with 0 Axes>"
      ]
     },
     "metadata": {},
     "output_type": "display_data"
    }
   ],
   "source": [
    "meta_obj.meta_show_species_distribution(sub_row=10, sub_col=10, hab_num_x_axis_in_patch=2, hab_num_y_axis_in_patch=2, hab_y_len=16, hab_x_len=16, vmin=1, vmax=100, cmap=plt.get_cmap('gist_rainbow'), file_name='time_step=%d-metacommunity_sp_dis_after_germination.jpg'%(time_step))"
   ]
  },
  {
   "cell_type": "markdown",
   "id": "170a1cbc",
   "metadata": {},
   "source": [
    "Then, 'time_step=0-metacommunity_sp_dis_after_germination.jpg' is plotted in the folder. We can find that there exist 57 individuals in the meatcommunity and each species is represented by one color."
   ]
  },
  {
   "cell_type": "markdown",
   "id": "25e3a194",
   "metadata": {},
   "source": [
    "Next, we will simulate the disturbance process in each patch in the metacommunity."
   ]
  },
  {
   "cell_type": "code",
   "execution_count": 61,
   "id": "7ef89014",
   "metadata": {},
   "outputs": [],
   "source": [
    "log_info = meta_obj.meta_disturbance_process_in_patches(patch_dist_rate=0.00001)"
   ]
  },
  {
   "cell_type": "code",
   "execution_count": 62,
   "id": "9c388e00",
   "metadata": {},
   "outputs": [
    {
     "name": "stdout",
     "output_type": "stream",
     "text": [
      "[Disturbance process] occurred in [] \n",
      "\n"
     ]
    }
   ],
   "source": [
    "print(log_info)"
   ]
  },
  {
   "cell_type": "markdown",
   "id": "863a7679",
   "metadata": {},
   "source": [
    "We note that when disturbance occurs in a patch, all the individuals and propagules would dead in the patch."
   ]
  },
  {
   "cell_type": "markdown",
   "id": "69065dc2",
   "metadata": {},
   "source": [
    "Next, we try to simulate the natural selcetion process."
   ]
  },
  {
   "cell_type": "code",
   "execution_count": 63,
   "id": "b3e4cf34",
   "metadata": {},
   "outputs": [
    {
     "data": {
      "text/plain": [
       "'[Dead selection] in metacommunity: there are 39 individuals dead in selection; there are 25 individuals in the metacommunity; there are 102375 empty sites in the metacommunity \\n'"
      ]
     },
     "execution_count": 63,
     "metadata": {},
     "output_type": "execute_result"
    }
   ],
   "source": [
    "meta_obj.meta_dead_selection(base_dead_rate=0.1, fitness_wid=0.5, method='niche_gaussian')"
   ]
  },
  {
   "cell_type": "markdown",
   "id": "e99a8174",
   "metadata": {},
   "source": [
    "As shown in the logging information, some individuals is dead."
   ]
  },
  {
   "cell_type": "code",
   "execution_count": 64,
   "id": "523799ef",
   "metadata": {},
   "outputs": [
    {
     "data": {
      "text/plain": [
       "0"
      ]
     },
     "execution_count": 64,
     "metadata": {},
     "output_type": "execute_result"
    },
    {
     "data": {
      "text/plain": [
       "<Figure size 4000x4000 with 0 Axes>"
      ]
     },
     "metadata": {},
     "output_type": "display_data"
    }
   ],
   "source": [
    "meta_obj.meta_show_species_distribution(sub_row=10, sub_col=10, hab_num_x_axis_in_patch=2, hab_num_y_axis_in_patch=2, hab_y_len=16, hab_x_len=16, vmin=1, vmax=100, cmap=plt.get_cmap('gist_rainbow'), file_name='time_step=%d-metacommunity_sp_dis_after_natural_selection.jpg'%(time_step))"
   ]
  },
  {
   "cell_type": "markdown",
   "id": "cf5056d0",
   "metadata": {},
   "source": [
    "Then, 'time_step=%d-metacommunity_sp_dis_after_natural_selection.jpg' is plotted in the folder. As plotting in the figure, some individuals is dead."
   ]
  },
  {
   "cell_type": "markdown",
   "id": "8a2dd5b0",
   "metadata": {},
   "source": [
    "Finally, we should clear up the propagules that fail to germinate in the offspring pool and immigrants pool."
   ]
  },
  {
   "cell_type": "code",
   "execution_count": 65,
   "id": "6547dae9",
   "metadata": {},
   "outputs": [],
   "source": [
    "meta_obj.meta_clear_up_offspring_marker_and_immigrant_marker_pool()"
   ]
  },
  {
   "cell_type": "markdown",
   "id": "30187318",
   "metadata": {},
   "source": [
    "We have to mention that in the community assembly, we should simulate the sub-processes above repeatly until the species in the metacommunity reach an equilibrium state. For examples, we simulation the processes with 5000 time-steps."
   ]
  },
  {
   "cell_type": "markdown",
   "id": "7deffcb1",
   "metadata": {},
   "source": [
    "## We can simulate all the sub-processes into a main process."
   ]
  },
  {
   "cell_type": "code",
   "execution_count": 66,
   "id": "bf1d8259",
   "metadata": {},
   "outputs": [],
   "source": [
    "############# this is not the main function, but it will be used in the main function ########################### \n",
    "def new_round(_float, _len = 0):\n",
    "    \"\"\"\n",
    "    Parameters\n",
    "    ----------\n",
    "    _float: float\n",
    "    _len: int, 指定四舍五入需要保留的小数点后几位数为_len\n",
    "\n",
    "    Returns\n",
    "    -------\n",
    "    type ==> float, 返回四舍五入后的值\n",
    "    \"\"\"\n",
    "    if isinstance(_float, float):\n",
    "        if str(_float)[::-1].find('.') <= _len:\n",
    "            return (_float)\n",
    "        if str(_float)[-1] == '5':\n",
    "            return (round(float(str(_float)[:-1] + '6'), _len))\n",
    "        else:\n",
    "            return (round(_float, _len))\n",
    "    else:\n",
    "        return (round(_float, _len))\n",
    "#################################################################################################################\n",
    "def mkdir_if_not_exist(reproduce_mode, patch_num, is_heterogeneity, disp_among_within_rate, patch_dist_rate):\n",
    "    root_path = os.getcwd()\n",
    "    \n",
    "    reproduce_mode_dir = {'asexual':'/asexual', 'sexual':'/sexual'}\n",
    "    patch_num_files_name = '/patch_num=%03d'%patch_num\n",
    "    is_heterogeneity_files_name = '/is_heterogeneity=%s'%str(is_heterogeneity)\n",
    "    disp_amomg_within_rate_files_name = '/disp_among=%f-disp_within=%f'%(disp_among_within_rate[0], disp_among_within_rate[1])\n",
    "    patch_dist_rate_files_name = '/patch_dist_rate=%f'%patch_dist_rate\n",
    "    \n",
    "    goal_path = root_path + reproduce_mode_dir[reproduce_mode] + patch_num_files_name + is_heterogeneity_files_name + disp_amomg_within_rate_files_name + patch_dist_rate_files_name\n",
    "    if os.path.exists(goal_path) == False:\n",
    "        os.makedirs(goal_path)\n",
    "    else:\n",
    "        pass\n",
    "    return goal_path\n",
    "################################################## logging module ########################################################################################\n",
    "def write_logger(log_info, is_logging=False, logger_file=None):\n",
    "    if is_logging == True:\n",
    "        print(log_info, file=logger_file)\n",
    "    elif is_logging == False:\n",
    "        print(log_info)"
   ]
  },
  {
   "cell_type": "markdown",
   "id": "48bf9cda",
   "metadata": {},
   "source": [
    "This is the main function below,"
   ]
  },
  {
   "cell_type": "code",
   "execution_count": 67,
   "id": "1f594993",
   "metadata": {},
   "outputs": [],
   "source": [
    "def main(rep, patch_num, reproduce_mode, total_disp_among_rate, disp_within_rate, patch_dist_rate, goal_path=None):\n",
    "    if goal_path==None: goal_path = os.getcwd()\n",
    "    \n",
    "    ''' timer '''\n",
    "    all_time_start = time.time()\n",
    "    \n",
    "    ''' replication index (not running) '''\n",
    "    #rep = 0\n",
    "    \n",
    "    ''' time-step scales parameters '''\n",
    "    all_time_step = 5000\n",
    "    \n",
    "    ''' map size parameters '''\n",
    "    meta_length, meta_width = 320, 320\n",
    "    #patch_num = 16  # 1, 4, 16, 64, 256, 1024\n",
    "    patch_num_x_axis, patch_num_y_axis = int(np.sqrt(patch_num)), int(np.sqrt(patch_num))\n",
    "    patch_location_ls = [(i,j) for i in range(patch_num_x_axis) for j in range(patch_num_y_axis)] # patch_row, hab_col\n",
    "    if patch_num == 1: hab_num_in_patch = 16\n",
    "    else: hab_num_in_patch = 4\n",
    "    hab_num_x_axis, hab_num_y_axis = int(np.sqrt(hab_num_in_patch)), int(np.sqrt(hab_num_in_patch)) # hab_num_x_axis in a patch, hab_num_y_axis in a patch\n",
    "    hab_length, hab_width = int(meta_length/patch_num_y_axis/hab_num_y_axis), int(meta_width/patch_num_x_axis/hab_num_x_axis) \n",
    "\n",
    "    ''' environmental parameters '''\n",
    "    environment_types_num = 2\n",
    "    environment_types_name=('x_axis_environment', 'y_axis_environment')\n",
    "    environment_variation_ls = [0.025, 0.025]\n",
    "    total_dormancy_pool_max_size = 0\n",
    "    \n",
    "    is_heterogeneity=False\n",
    "    if is_heterogeneity==False: x_axis_environment_values_ls, y_axis_environment_values_ls = [0.0,0.1,0.2,0.3,0.4,0.5,0.6,0.7,0.8,0.9], [0.0,0.1,0.2,0.3,0.4,0.5,0.6,0.7,0.8,0.9] #离散值\n",
    "    elif is_heterogeneity==True: x_axis_environment_values_ls, y_axis_environment_values_ls = [0.1, 0.9], [0.1, 0.9]                    #连续值\n",
    "    \n",
    "    ''' demography parameters '''\n",
    "    base_dead_rate=0.1\n",
    "    fitness_wid=0.5\n",
    "    #reproduce_mode = 'sexual'\n",
    "    asexual_birth_rate = 0.5\n",
    "    sexual_birth_rate = 1\n",
    "    mutation_rate=0\n",
    "    \n",
    "    ''' landscape parameters '''\n",
    "    colonize_rate = 0.001\n",
    "    #total_disp_among_rate = 0.001\n",
    "    #disp_within_rate =0.1\n",
    "    propagules_rain_num = 40000 * colonize_rate\n",
    "    #patch_dist_rate = 0.00001\n",
    "    \n",
    "    ''' species parameters '''\n",
    "    #species_num = 4\n",
    "    traits_num = 2\n",
    "    pheno_names_ls = ('x_axis_phenotype', 'y_axis_phenotype')\n",
    "    pheno_var_ls=(0.025, 0.025)\n",
    "    geno_len_ls=(20, 20)\n",
    "    species_2_phenotype_ls = [[i/10, j/10] for i in range(0,10) for j in range(0,10)]\n",
    "    #[[0.2,0.2], [0.4,0.4], [0.6,0.6], [0.8,0.8]] # (index+1) indicates species_id\n",
    "    \n",
    "    ''' logging or not logging '''\n",
    "    is_logging = True\n",
    "    \n",
    "    ''' logging module '''\n",
    "    if is_logging == True: \n",
    "        logger_file_name = goal_path+'/'+'rep=%d-logger.log'%(rep)\n",
    "        logger_file = open(logger_file_name, \"a\")\n",
    "    \n",
    "    ''' initailization processes '''\n",
    "    write_in_logger_info = ''\n",
    "    \n",
    "    mainland, log_info = generate_empty_mainland(meta_name='mainland', patch_num=1, patch_location_ls=[(0,0)], hab_num=100, hab_length=20, hab_width=20, dormancy_pool_max_size=0, \n",
    "                                                 x_axis_environment_values_ls=[0.0,0.1,0.2,0.3,0.4,0.5,0.6,0.7,0.8,0.9], y_axis_environment_values_ls=[0.0,0.1,0.2,0.3,0.4,0.5,0.6,0.7,0.8,0.9], \n",
    "                                                 environment_types_num=environment_types_num, environment_types_name=environment_types_name, environment_variation_ls=environment_variation_ls)\n",
    "    write_in_logger_info += log_info\n",
    "    \n",
    "    meta_obj, log_info = generating_empty_metacommunity('metacommunity', patch_num, patch_location_ls, hab_num_in_patch, hab_length, hab_width, int(new_round(total_dormancy_pool_max_size/(patch_num*hab_num_in_patch))), \n",
    "                                                        x_axis_environment_values_ls, y_axis_environment_values_ls, environment_types_num, environment_types_name, environment_variation_ls, is_heterogeneity)\n",
    "    write_in_logger_info += log_info\n",
    "    \n",
    "    write_in_logger_info += mainland.meta_initialize(traits_num, pheno_names_ls, pheno_var_ls, geno_len_ls, reproduce_mode, species_2_phenotype_ls)\n",
    "    \n",
    "    write_logger(write_in_logger_info, is_logging, logger_file)\n",
    "    \n",
    "    ''' data saving and files controling '''\n",
    "    columns_patch_id, columns_habitat_id, columns_mocrosite_id = meta_obj.columns_patch_habitat_microsites_id()\n",
    "    columns = [columns_patch_id, columns_habitat_id, columns_mocrosite_id]\n",
    "    #mode='w'\n",
    "    #meta_sp_dis_all_time = meta_obj.get_meta_microsites_optimum_sp_id_val(base_dead_rate, fitness_wid, species_2_phenotype_ls)\n",
    "    #meta_x_axis_phenotype_all_time = meta_obj.get_meta_microsite_environment_values(environment_name='x_axis_environment')\n",
    "    #meta_y_axis_phenotype_all_time = meta_obj.get_meta_microsite_environment_values(environment_name='y_axis_environment')\n",
    "    #mode='a'\n",
    "    meta_obj.meta_distribution_data_all_time_to_csv_gz(dis_data_all_time=meta_obj.get_meta_microsites_optimum_sp_id_val(base_dead_rate, fitness_wid, species_2_phenotype_ls), \n",
    "                                                       file_name=goal_path+'/'+'rep=%d-meta_species_distribution_all_time.csv.gz'%(rep), \n",
    "                                                       index=['optimun_sp_id_values'], columns=columns, mode='w')\n",
    "    meta_obj.meta_distribution_data_all_time_to_csv_gz(dis_data_all_time=meta_obj.get_meta_microsite_environment_values(environment_name='x_axis_environment'), \n",
    "                                                       file_name=goal_path+'/'+'rep=%d-meta_x_axis_phenotype_all_time.csv.gz'%(rep), \n",
    "                                                       index=['x_axis_environment_values'], columns=columns, mode='w')\n",
    "    meta_obj.meta_distribution_data_all_time_to_csv_gz(dis_data_all_time=meta_obj.get_meta_microsite_environment_values(environment_name='y_axis_environment'), \n",
    "                                                       file_name=goal_path+'/'+'rep=%d-meta_y_axis_phenotype_all_time.csv.gz'%(rep), \n",
    "                                                       index=['y_axis_environment_values'], columns=columns, mode='w')\n",
    "    for time_step in range(all_time_step): \n",
    "        write_in_logger_info = ''\n",
    "        write_in_logger_info += 'time_step=%d \\n'%time_step\n",
    "        #print('time_step=%d'%time_step)\n",
    "        if reproduce_mode == 'asexual':\n",
    "            ''' dead selection process in mainland and metacommunity '''\n",
    "            write_in_logger_info += mainland.meta_dead_selection(base_dead_rate, fitness_wid, method='niche_gaussian')\n",
    "            write_in_logger_info += mainland.meta_mainland_asexual_birth_mutate_germinate(asexual_birth_rate, mutation_rate, pheno_var_ls)\n",
    "            write_in_logger_info += meta_obj.meta_dead_selection(base_dead_rate, fitness_wid, method='niche_gaussian')\n",
    "            ''' reproduction process '''\n",
    "            write_in_logger_info += meta_obj.meta_asex_reproduce_calculation_into_offspring_marker_pool(asexual_birth_rate)\n",
    "            #meta_obj.meta_asex_reproduce_mutate_into_offspring_pool(asexual_birth_rate, mutation_rate, pheno_var_ls)\n",
    "            ''' dispersal processes '''\n",
    "            write_in_logger_info += meta_obj.meta_colonize_from_propagules_rains(mainland, propagules_rain_num)\n",
    "            write_in_logger_info += meta_obj.meta_dispersal_within_patch_from_offspring_marker_to_immigrant_marker_pool(disp_within_rate)\n",
    "            #meta_obj.meta_dispersal_within_patch_from_offspring_to_immigrant_pool(disp_within_rate)\n",
    "            write_in_logger_info += meta_obj.dispersal_aomng_patches_from_offspring_marker_pool_to_immigrant_marker_pool(total_disp_among_rate)\n",
    "            #meta_obj.dispersal_aomng_patches_from_offspring_pool_to_immigrant_pool(total_disp_among_rate)\n",
    "            ''' germination processes '''\n",
    "            write_in_logger_info += meta_obj.meta_local_germinate_and_birth_from_offspring_marker_and_immigrant_marker_pool(mutation_rate, pheno_var_ls)\n",
    "            #meta_obj.meta_local_germinate_from_offspring_and_immigrant_pool()\n",
    "            #meta_obj.meta_local_germinate_from_offspring_immigrant_and_dormancy_pool()\n",
    "            ''' dormancy process (not running) '''\n",
    "            #meta_obj.meta_dormancy_process_from_offspring_pool_and_immigrant_pool()\n",
    "            ''' disturbance process '''\n",
    "            write_in_logger_info += meta_obj.meta_disturbance_process_in_patches(patch_dist_rate)\n",
    "            ''' eliminating offspring and immigrant (marker) pool '''\n",
    "            meta_obj.meta_clear_up_offspring_marker_and_immigrant_marker_pool()\n",
    "            #meta_obj.meta_clear_up_offspring_and_immigrant_pool()\n",
    "            \n",
    "        elif reproduce_mode == 'sexual':\n",
    "            ''' dead selection process in mainland and metacommunity '''\n",
    "            write_in_logger_info += mainland.meta_dead_selection(base_dead_rate, fitness_wid, method='niche_gaussian')\n",
    "            write_in_logger_info += mainland.meta_mainland_mixed_birth_mutate_germinate(asexual_birth_rate, sexual_birth_rate, mutation_rate, pheno_var_ls)\n",
    "            write_in_logger_info += meta_obj.meta_dead_selection(base_dead_rate, fitness_wid, method='niche_gaussian')\n",
    "            ''' reproduction process '''\n",
    "            write_in_logger_info += meta_obj.meta_mix_reproduce_calculation_with_offspring_marker_pool(asexual_birth_rate, sexual_birth_rate)\n",
    "            #meta_obj.meta_mix_reproduce_mutate_into_offspring_pool(asexual_birth_rate, sexual_birth_rate, mutation_rate, pheno_var_ls)\n",
    "            ''' dispersal processes '''\n",
    "            write_in_logger_info += meta_obj.pairwise_sexual_colonization_from_prpagules_rains(mainland, propagules_rain_num)\n",
    "            write_in_logger_info += meta_obj.meta_dispersal_within_patch_from_offspring_marker_to_immigrant_marker_pool(disp_within_rate)\n",
    "            #meta_obj.meta_dispersal_within_patch_from_offspring_to_immigrant_pool(disp_within_rate)\n",
    "            write_in_logger_info += meta_obj.dispersal_aomng_patches_from_offspring_marker_pool_to_immigrant_marker_pool(total_disp_among_rate)\n",
    "            #meta_obj.dispersal_aomng_patches_from_offspring_pool_to_immigrant_pool(total_disp_among_rate)\n",
    "            ''' germination processes '''\n",
    "            write_in_logger_info += meta_obj.meta_local_germinate_and_birth_from_offspring_marker_and_immigrant_marker_pool(mutation_rate, pheno_var_ls)\n",
    "            #meta_obj.meta_local_germinate_from_offspring_and_immigrant_pool()\n",
    "            #meta_obj.meta_local_germinate_from_offspring_immigrant_and_dormancy_pool()\n",
    "            ''' dormancy process (not running) '''\n",
    "            #meta_obj.meta_dormancy_process_from_offspring_pool_and_immigrant_pool()\n",
    "            ''' disturbance process '''\n",
    "            write_in_logger_info += meta_obj.meta_disturbance_process_in_patches(patch_dist_rate)\n",
    "            ''' eliminating offspring and immigrant (marker) pool '''\n",
    "            meta_obj.meta_clear_up_offspring_marker_and_immigrant_marker_pool()\n",
    "            #meta_obj.meta_clear_up_offspring_and_immigrant_pool()\n",
    "        \n",
    "        ''' logging module '''\n",
    "        write_logger(write_in_logger_info, is_logging, logger_file)\n",
    "        \n",
    "        ''' GUI interface updates at each time-step and saves as a jpg file (not running) '''\n",
    "        #meta_obj.meta_show_species_distribution(sub_row=patch_num_y_axis, sub_col=patch_num_x_axis, hab_num_x_axis_in_patch=hab_num_x_axis, hab_num_y_axis_in_patch=hab_num_y_axis, hab_y_len=hab_length, hab_x_len=hab_width, vmin=1, vmax=100, cmap=plt.get_cmap('tab20'), file_name=goal_path+'/'+'rep=%d-time_step=%d-metacommunity_sp_x_axis_phenotype_dis.jpg'%(rep, time_step))\n",
    "\n",
    "        ''' data saving and files controling '''\n",
    "        #mode='w\n",
    "        #meta_sp_dis_all_time = np.vstack((meta_sp_dis_all_time, meta_obj.get_meta_microsites_individuals_sp_id_values()))\n",
    "        #meta_x_axis_phenotype_all_time = np.vstack((meta_x_axis_phenotype_all_time, meta_obj.get_meta_microsites_individuals_phenotype_values(trait_name='x_axis_phenotype')))\n",
    "        #meta_y_axis_phenotype_all_time = np.vstack((meta_y_axis_phenotype_all_time, meta_obj.get_meta_microsites_individuals_phenotype_values(trait_name='y_axis_phenotype')))\n",
    "        #mode='a'\n",
    "        meta_obj.meta_distribution_data_all_time_to_csv_gz(dis_data_all_time=meta_obj.get_meta_microsites_individuals_sp_id_values(), file_name=goal_path+'/'+'rep=%d-meta_species_distribution_all_time.csv.gz'%(rep), index=['time_step%d'%time_step], columns=columns, mode='a')\n",
    "        meta_obj.meta_distribution_data_all_time_to_csv_gz(dis_data_all_time=meta_obj.get_meta_microsites_individuals_phenotype_values(trait_name='x_axis_phenotype'), file_name=goal_path+'/'+'rep=%d-meta_x_axis_phenotype_all_time.csv.gz'%(rep), index=['time_step%d'%time_step], columns=columns, mode='a')\n",
    "        meta_obj.meta_distribution_data_all_time_to_csv_gz(dis_data_all_time=meta_obj.get_meta_microsites_individuals_phenotype_values(trait_name='y_axis_phenotype'), file_name=goal_path+'/'+'rep=%d-meta_y_axis_phenotype_all_time.csv.gz'%(rep), index=['time_step%d'%time_step], columns=columns, mode='a')\n",
    "    \n",
    "    ''' GUI interface updates at the end of a simulation saves as a jpg file '''\n",
    "    #camp1,camp2,camp3 = plt.get_cmap('tab20'),plt.get_cmap('tab20b'),plt.get_cmap('tab20c')\n",
    "    #new_camp = ListedColormap(camp1.colors+camp2.colors+camp3.colors)\n",
    "    new_camp = plt.get_cmap('gist_rainbow')\n",
    "    \n",
    "    mainland.meta_show_species_distribution(sub_row=1, sub_col=1, hab_num_x_axis_in_patch=10, hab_num_y_axis_in_patch=10, hab_y_len=20, hab_x_len=20, vmin=1, vmax=100, cmap=new_camp, file_name=goal_path+'/'+'rep=%d-time_step=%d-mainland_sp_dis.jpg'%(rep, time_step))\n",
    "    meta_obj.meta_show_species_distribution(sub_row=patch_num_y_axis, sub_col=patch_num_x_axis, hab_num_x_axis_in_patch=hab_num_x_axis, hab_num_y_axis_in_patch=hab_num_y_axis, hab_y_len=hab_length, hab_x_len=hab_width, vmin=1, vmax=100, cmap=plt.get_cmap('tab20'), file_name=goal_path+'/'+'rep=%d-time_step=%d-metacommunity_sp_dis.jpg'%(rep, time_step))\n",
    "    meta_obj.meta_show_species_phenotype_distribution(trait_name='x_axis_phenotype', sub_row=patch_num_y_axis, sub_col=patch_num_x_axis, hab_num_x_axis_in_patch=hab_num_x_axis, hab_num_y_axis_in_patch=hab_num_y_axis, hab_y_len=hab_length, hab_x_len=hab_width, cmap=plt.get_cmap('Blues'), file_name=goal_path+'/'+'rep=%d-time_step=%d-metacommunity_sp_x_axis_phenotype_dis.jpg'%(rep, time_step))\n",
    "    meta_obj.meta_show_species_phenotype_distribution(trait_name='y_axis_phenotype', sub_row=patch_num_y_axis, sub_col=patch_num_x_axis, hab_num_x_axis_in_patch=hab_num_x_axis, hab_num_y_axis_in_patch=hab_num_y_axis, hab_y_len=hab_length, hab_x_len=hab_width, cmap=plt.get_cmap('Greens'), file_name=goal_path+'/'+'rep=%d-time_step=%d-metacommunity_sp_y_axis_phenotype_dis.jpg'%(rep, time_step))\n",
    "    #meta_obj.meta_show_environment_distribution(environment_name='x_axis_environment', sub_row=patch_num_y_axis, sub_col=patch_num_x_axis, hab_num_x_axis_in_patch=hab_num_x_axis, hab_num_y_axis_in_patch=hab_num_y_axis, hab_y_len=hab_length, hab_x_len=hab_width, mask_loc='upper', cmap=plt.get_cmap('Blues'), file_name=goal_path+'/'+'rep=%d-metacommunity_x_axis_environment.jpg'%(rep))\n",
    "    #meta_obj.meta_show_environment_distribution(environment_name='y_axis_environment', sub_row=patch_num_y_axis, sub_col=patch_num_x_axis, hab_num_x_axis_in_patch=hab_num_x_axis, hab_num_y_axis_in_patch=hab_num_y_axis, hab_y_len=hab_length, hab_x_len=hab_width, mask_loc='lower', cmap=plt.get_cmap('Greens'), file_name=goal_path+'/'+'rep=%d-metacommunity_y_axis_environment.jpg'%(rep))\n",
    "    meta_obj.meta_show_two_environment_distribution(environment1_name='x_axis_environment', environment2_name='y_axis_environment', sub_row=patch_num_y_axis, sub_col=patch_num_x_axis, hab_num_x_axis_in_patch=hab_num_x_axis, hab_num_y_axis_in_patch=hab_num_y_axis, hab_y_len=hab_length, hab_x_len=hab_width, mask_loc1='upper', mask_loc2='lower', cmap1=plt.get_cmap('Blues'), cmap2=plt.get_cmap('Greens'), file_name=goal_path+'/'+'rep=%d-metacommunity_environment.jpg'%(rep))\n",
    "\n",
    "    #''' data saving as a csv.gz files, mode='w' '''\n",
    "    #mode='w'\n",
    "    #meta_obj.meta_distribution_data_all_time_to_csv_gz(dis_data_all_time=meta_sp_dis_all_time, file_name=goal_path+'/'+'rep=%d_meta_species_distribution_all_time.csv.gz'%(rep), index=['optimun_sp_id_values']+['time_step%d'%i for i in range(all_time_step)], columns=columns, mode='w')\n",
    "    #meta_obj.meta_distribution_data_all_time_to_csv_gz(dis_data_all_time=meta_x_axis_phenotype_all_time, file_name=goal_path+'/'+'rep=%d_meta_x_axis_phenotype_all_time.csv.gz'%(rep), index=['x_axis_environment_values']+['time_step%d'%i for i in range(all_time_step)], columns=columns, mode='w')\n",
    "    #meta_obj.meta_distribution_data_all_time_to_csv_gz(dis_data_all_time=meta_y_axis_phenotype_all_time, file_name=goal_path+'/'+'rep=%d_meta_y_axis_phenotype_all_time.csv.gz'%(rep), index=['y_axis_environment_values']+['time_step%d'%i for i in range(all_time_step)], columns=columns, mode='w')\n",
    "    \n",
    "    ''' timer '''\n",
    "    all_time_end = time.time()\n",
    "    \n",
    "    ''' logging module '''\n",
    "    log_info = \"totoal simulation time：%.8s s \\n\" % (all_time_end-all_time_start)\n",
    "    write_logger(log_info, is_logging, logger_file)\n",
    "    if is_logging == True: logger_file.close()\n",
    "    #print(log_info)"
   ]
  },
  {
   "cell_type": "markdown",
   "id": "af8bbed7",
   "metadata": {},
   "source": [
    "Now, we have coded the simulation into a main process."
   ]
  },
  {
   "cell_type": "markdown",
   "id": "0a31f0bc",
   "metadata": {},
   "source": [
    "To run the simulation, we can calling the following function,"
   ]
  },
  {
   "cell_type": "code",
   "execution_count": 68,
   "id": "585e19c1",
   "metadata": {},
   "outputs": [
    {
     "data": {
      "text/plain": [
       "<Figure size 4000x4000 with 0 Axes>"
      ]
     },
     "metadata": {},
     "output_type": "display_data"
    },
    {
     "data": {
      "text/plain": [
       "<Figure size 4000x4000 with 0 Axes>"
      ]
     },
     "metadata": {},
     "output_type": "display_data"
    },
    {
     "data": {
      "text/plain": [
       "<Figure size 4000x4000 with 0 Axes>"
      ]
     },
     "metadata": {},
     "output_type": "display_data"
    },
    {
     "data": {
      "text/plain": [
       "<Figure size 4000x4000 with 0 Axes>"
      ]
     },
     "metadata": {},
     "output_type": "display_data"
    },
    {
     "data": {
      "text/plain": [
       "<Figure size 4000x4000 with 0 Axes>"
      ]
     },
     "metadata": {},
     "output_type": "display_data"
    }
   ],
   "source": [
    "if __name__ == '__main__':\n",
    "    main(rep=0, patch_num=100, reproduce_mode='asexual', total_disp_among_rate=0.001, disp_within_rate=0.1, patch_dist_rate=0.00001)"
   ]
  },
  {
   "cell_type": "markdown",
   "id": "04359310",
   "metadata": {},
   "source": [
    "As we can see the parameters of the main function, we will study the simulating results in the parameters space of reproduce_mode, disp_among_rate, disp_within_rate. For each simulation of parameters combination, we will runs the model for 10 replicated trials (rep=0,1,2,...,9)."
   ]
  },
  {
   "cell_type": "markdown",
   "id": "2693b8c9",
   "metadata": {},
   "source": [
    "Hence, we need to run the main function with different parameters inputed."
   ]
  },
  {
   "cell_type": "markdown",
   "id": "32e2ae8e",
   "metadata": {},
   "source": [
    "To do so, we recommend that we run these simulation with a parallel-computing way by using High Performance Computing devices.\n",
    "\n",
    "See the details of High Performance Computing back in the Users mannual."
   ]
  },
  {
   "cell_type": "markdown",
   "id": "1ba13f54",
   "metadata": {},
   "source": [
    "Thank you!"
   ]
  }
 ],
 "metadata": {
  "kernelspec": {
   "display_name": "Python 3 (ipykernel)",
   "language": "python",
   "name": "python3"
  },
  "language_info": {
   "codemirror_mode": {
    "name": "ipython",
    "version": 3
   },
   "file_extension": ".py",
   "mimetype": "text/x-python",
   "name": "python",
   "nbconvert_exporter": "python",
   "pygments_lexer": "ipython3",
   "version": "3.9.17"
  }
 },
 "nbformat": 4,
 "nbformat_minor": 5
}
